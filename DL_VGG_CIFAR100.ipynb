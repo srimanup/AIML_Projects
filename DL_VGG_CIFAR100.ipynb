{
  "nbformat": 4,
  "nbformat_minor": 0,
  "metadata": {
    "colab": {
      "provenance": [],
      "gpuType": "T4"
    },
    "kernelspec": {
      "name": "python3",
      "display_name": "Python 3"
    },
    "language_info": {
      "name": "python"
    },
    "accelerator": "GPU"
  },
  "cells": [
    {
      "cell_type": "code",
      "source": [
        "import torch\n",
        "import torch.nn as nn\n",
        "import torch.optim as optim\n",
        "from torchvision import datasets, transforms\n",
        "from torch.utils.data import DataLoader"
      ],
      "metadata": {
        "id": "brNY2kIqII2l"
      },
      "execution_count": null,
      "outputs": []
    },
    {
      "cell_type": "code",
      "source": [
        "# Check if CUDA is available and set the device\n",
        "device = torch.device(\"cuda\" if torch.cuda.is_available() else \"cpu\")"
      ],
      "metadata": {
        "id": "WskDogahII0X"
      },
      "execution_count": null,
      "outputs": []
    },
    {
      "cell_type": "code",
      "source": [
        "# CIFAR-10 dataset has 10 classes\n",
        "num_classes = 100"
      ],
      "metadata": {
        "id": "Sy3Q0oJQIIx9"
      },
      "execution_count": null,
      "outputs": []
    },
    {
      "cell_type": "code",
      "source": [
        "# Define the VGG block\n",
        "def vgg_block(num_convs, in_channels, out_channels):\n",
        "    layers = []\n",
        "    for _ in range(num_convs):\n",
        "        layers.append(nn.Conv2d(in_channels, out_channels, kernel_size=3, padding=1))\n",
        "        layers.append(nn.BatchNorm2d(out_channels))\n",
        "        layers.append(nn.ReLU(inplace=True))\n",
        "        in_channels = out_channels\n",
        "    layers.append(nn.MaxPool2d(kernel_size=2, stride=2))\n",
        "    return nn.Sequential(*layers)"
      ],
      "metadata": {
        "id": "5G3F3iWIIIvl"
      },
      "execution_count": null,
      "outputs": []
    },
    {
      "cell_type": "code",
      "source": [
        "# Define the VGG network\n",
        "class VGG(nn.Module):\n",
        "    def __init__(self, conv_arch, num_classes=10):\n",
        "        super(VGG, self).__init__()\n",
        "        self.conv_layers = self._make_layers(conv_arch)\n",
        "        self.fc_layers = nn.Sequential(\n",
        "            nn.Linear(conv_arch[-1][1] * 1 * 1, 4096),\n",
        "            nn.ReLU(True),\n",
        "            nn.Dropout(p=0.5),\n",
        "            nn.Linear(4096, 4096),\n",
        "            nn.ReLU(True),\n",
        "            nn.Dropout(p=0.5),\n",
        "            nn.Linear(4096, num_classes)\n",
        "        )\n",
        "\n",
        "    def _make_layers(self, conv_arch):\n",
        "        layers = []\n",
        "        in_channels = 3\n",
        "        for (num_convs, out_channels) in conv_arch:\n",
        "            layers.append(vgg_block(num_convs, in_channels, out_channels))\n",
        "            in_channels = out_channels\n",
        "        return nn.Sequential(*layers)\n",
        "\n",
        "    def forward(self, x):\n",
        "        x = self.conv_layers(x)\n",
        "        x = x.view(x.size(0), -1)  # Flatten the features\n",
        "        x = self.fc_layers(x)\n",
        "        return x\n"
      ],
      "metadata": {
        "id": "zSsgfHJRIIs9"
      },
      "execution_count": null,
      "outputs": []
    },
    {
      "cell_type": "code",
      "source": [
        "# Define the VGG architecture\n",
        "conv_arch = ((2, 64), (2, 128), (3, 256), (3, 512), (3, 512))\n"
      ],
      "metadata": {
        "id": "0uFHTk27IIqV"
      },
      "execution_count": null,
      "outputs": []
    },
    {
      "cell_type": "code",
      "source": [
        "# Instantiate the model\n",
        "model = VGG(conv_arch, num_classes=num_classes).to(device)"
      ],
      "metadata": {
        "id": "swxx1nAkIInU"
      },
      "execution_count": null,
      "outputs": []
    },
    {
      "cell_type": "code",
      "source": [
        "# Hyperparameters\n",
        "learning_rate = 0.001\n",
        "batch_size = 64\n",
        "epochs = 10"
      ],
      "metadata": {
        "id": "hxC3U6ajIIk2"
      },
      "execution_count": null,
      "outputs": []
    },
    {
      "cell_type": "code",
      "source": [
        "# Image preprocessing modules\n",
        "transform = transforms.Compose([\n",
        "    transforms.ToTensor(),\n",
        "    transforms.Normalize((0.5, 0.5, 0.5), (0.5, 0.5, 0.5))\n",
        "])"
      ],
      "metadata": {
        "id": "S7J_QQ7SITbt"
      },
      "execution_count": null,
      "outputs": []
    },
    {
      "cell_type": "code",
      "source": [
        "# CIFAR-10 data\n",
        "train_dataset = datasets.CIFAR100(root='./data', train=True, transform=transform, download=True)\n",
        "test_dataset = datasets.CIFAR100(root='./data', train=False, transform=transform)"
      ],
      "metadata": {
        "colab": {
          "base_uri": "https://localhost:8080/"
        },
        "id": "CrkJnCyGITZf",
        "outputId": "9ab03e05-11cc-4a6c-bd3a-2c3569d1291d"
      },
      "execution_count": null,
      "outputs": [
        {
          "output_type": "stream",
          "name": "stdout",
          "text": [
            "Downloading https://www.cs.toronto.edu/~kriz/cifar-100-python.tar.gz to ./data/cifar-100-python.tar.gz\n"
          ]
        },
        {
          "output_type": "stream",
          "name": "stderr",
          "text": [
            "100%|██████████| 169001437/169001437 [00:06<00:00, 25293219.17it/s]\n"
          ]
        },
        {
          "output_type": "stream",
          "name": "stdout",
          "text": [
            "Extracting ./data/cifar-100-python.tar.gz to ./data\n"
          ]
        }
      ]
    },
    {
      "cell_type": "code",
      "source": [
        "# Data loader\n",
        "train_loader = DataLoader(dataset=train_dataset, batch_size=batch_size, shuffle=True)\n",
        "test_loader = DataLoader(dataset=test_dataset, batch_size=batch_size, shuffle=False)"
      ],
      "metadata": {
        "id": "kn3VgjDoITWl"
      },
      "execution_count": null,
      "outputs": []
    },
    {
      "cell_type": "code",
      "source": [
        "# Loss and optimizer\n",
        "criterion = nn.CrossEntropyLoss()\n",
        "optimizer = optim.Adam(model.parameters(), lr=learning_rate)"
      ],
      "metadata": {
        "id": "TH2c2JIQITUE"
      },
      "execution_count": null,
      "outputs": []
    },
    {
      "cell_type": "code",
      "source": [
        "# Function for training the model\n",
        "def train(model, criterion, optimizer, train_loader, epochs):\n",
        "    model.train()\n",
        "    for epoch in range(epochs):\n",
        "        for i, (images, labels) in enumerate(train_loader):\n",
        "            images = images.to(device)\n",
        "            labels = labels.to(device)\n",
        "\n",
        "            # Forward pass\n",
        "            outputs = model(images)\n",
        "            loss = criterion(outputs, labels)\n",
        "\n",
        "            # Backward and optimize\n",
        "            optimizer.zero_grad()\n",
        "            loss.backward()\n",
        "            optimizer.step()\n",
        "\n",
        "            if (i+1) % 100 == 0:\n",
        "                print(f'Epoch [{epoch+1}/{epochs}], Step [{i+1}/{len(train_loader)}], Loss: {loss.item():.4f}')"
      ],
      "metadata": {
        "id": "buVqg0kfITRd"
      },
      "execution_count": null,
      "outputs": []
    },
    {
      "cell_type": "code",
      "source": [
        "# Function for testing the model\n",
        "def test(model, test_loader):\n",
        "    model.eval()\n",
        "    with torch.no_grad():\n",
        "        correct = 0\n",
        "        total = 0\n",
        "        for images, labels in test_loader:\n",
        "            images = images.to(device)\n",
        "            labels = labels.to(device)\n",
        "            outputs = model(images)\n",
        "            _, predicted = torch.max(outputs.data, 1)\n",
        "            total += labels.size(0)\n",
        "            correct += (predicted == labels).sum().item()\n",
        "        accuracy = 100 * correct / total\n",
        "        print(f'Accuracy of the model on the test images: {accuracy}%')"
      ],
      "metadata": {
        "id": "MHWt34DoIb2k"
      },
      "execution_count": null,
      "outputs": []
    },
    {
      "cell_type": "code",
      "source": [
        "# Train the model\n",
        "train(model, criterion, optimizer, train_loader, epochs)\n"
      ],
      "metadata": {
        "colab": {
          "base_uri": "https://localhost:8080/"
        },
        "id": "PckFou_4Ibz8",
        "outputId": "f14083d8-d1b2-4774-d148-6f9c6c7d5399"
      },
      "execution_count": null,
      "outputs": [
        {
          "output_type": "stream",
          "name": "stdout",
          "text": [
            "Epoch [1/10], Step [100/782], Loss: 4.5575\n",
            "Epoch [1/10], Step [200/782], Loss: 4.5587\n",
            "Epoch [1/10], Step [300/782], Loss: 4.4646\n",
            "Epoch [1/10], Step [400/782], Loss: 4.4172\n",
            "Epoch [1/10], Step [500/782], Loss: 4.4629\n",
            "Epoch [1/10], Step [600/782], Loss: 4.3677\n",
            "Epoch [1/10], Step [700/782], Loss: 4.4237\n",
            "Epoch [2/10], Step [100/782], Loss: 4.4432\n",
            "Epoch [2/10], Step [200/782], Loss: 4.4248\n",
            "Epoch [2/10], Step [300/782], Loss: 4.2069\n",
            "Epoch [2/10], Step [400/782], Loss: 4.2496\n",
            "Epoch [2/10], Step [500/782], Loss: 4.4543\n",
            "Epoch [2/10], Step [600/782], Loss: 4.2872\n",
            "Epoch [2/10], Step [700/782], Loss: 4.2929\n",
            "Epoch [3/10], Step [100/782], Loss: 4.3203\n",
            "Epoch [3/10], Step [200/782], Loss: 4.1716\n",
            "Epoch [3/10], Step [300/782], Loss: 4.2357\n",
            "Epoch [3/10], Step [400/782], Loss: 4.1337\n",
            "Epoch [3/10], Step [500/782], Loss: 4.1454\n",
            "Epoch [3/10], Step [600/782], Loss: 4.3178\n",
            "Epoch [3/10], Step [700/782], Loss: 4.2349\n",
            "Epoch [4/10], Step [100/782], Loss: 3.8418\n",
            "Epoch [4/10], Step [200/782], Loss: 4.0753\n",
            "Epoch [4/10], Step [300/782], Loss: 3.9080\n",
            "Epoch [4/10], Step [400/782], Loss: 4.0095\n",
            "Epoch [4/10], Step [500/782], Loss: 4.2310\n",
            "Epoch [4/10], Step [600/782], Loss: 4.0064\n",
            "Epoch [4/10], Step [700/782], Loss: 3.9398\n",
            "Epoch [5/10], Step [100/782], Loss: 3.8471\n",
            "Epoch [5/10], Step [200/782], Loss: 4.0949\n",
            "Epoch [5/10], Step [300/782], Loss: 4.1358\n",
            "Epoch [5/10], Step [400/782], Loss: 3.6998\n",
            "Epoch [5/10], Step [500/782], Loss: 3.5604\n",
            "Epoch [5/10], Step [600/782], Loss: 3.7132\n",
            "Epoch [5/10], Step [700/782], Loss: 3.7073\n",
            "Epoch [6/10], Step [100/782], Loss: 3.6178\n",
            "Epoch [6/10], Step [200/782], Loss: 3.7347\n",
            "Epoch [6/10], Step [300/782], Loss: 3.7689\n",
            "Epoch [6/10], Step [400/782], Loss: 3.6871\n",
            "Epoch [6/10], Step [500/782], Loss: 3.8752\n",
            "Epoch [6/10], Step [600/782], Loss: 3.6796\n",
            "Epoch [6/10], Step [700/782], Loss: 3.6594\n",
            "Epoch [7/10], Step [100/782], Loss: 3.6302\n",
            "Epoch [7/10], Step [200/782], Loss: 3.3256\n",
            "Epoch [7/10], Step [300/782], Loss: 3.2134\n",
            "Epoch [7/10], Step [400/782], Loss: 3.6493\n",
            "Epoch [7/10], Step [500/782], Loss: 3.2564\n",
            "Epoch [7/10], Step [600/782], Loss: 3.7549\n",
            "Epoch [7/10], Step [700/782], Loss: 3.5777\n",
            "Epoch [8/10], Step [100/782], Loss: 3.3911\n",
            "Epoch [8/10], Step [200/782], Loss: 3.0281\n",
            "Epoch [8/10], Step [300/782], Loss: 3.5049\n",
            "Epoch [8/10], Step [400/782], Loss: 3.3256\n",
            "Epoch [8/10], Step [500/782], Loss: 3.2499\n",
            "Epoch [8/10], Step [600/782], Loss: 3.4644\n",
            "Epoch [8/10], Step [700/782], Loss: 3.4639\n",
            "Epoch [9/10], Step [100/782], Loss: 3.0920\n",
            "Epoch [9/10], Step [200/782], Loss: 3.3219\n",
            "Epoch [9/10], Step [300/782], Loss: 3.1761\n",
            "Epoch [9/10], Step [400/782], Loss: 3.3465\n",
            "Epoch [9/10], Step [500/782], Loss: 3.2839\n",
            "Epoch [9/10], Step [600/782], Loss: 2.8728\n",
            "Epoch [9/10], Step [700/782], Loss: 3.0384\n",
            "Epoch [10/10], Step [100/782], Loss: 3.1253\n",
            "Epoch [10/10], Step [200/782], Loss: 2.7971\n",
            "Epoch [10/10], Step [300/782], Loss: 2.9670\n",
            "Epoch [10/10], Step [400/782], Loss: 3.1785\n",
            "Epoch [10/10], Step [500/782], Loss: 3.0219\n",
            "Epoch [10/10], Step [600/782], Loss: 3.3014\n",
            "Epoch [10/10], Step [700/782], Loss: 2.4848\n"
          ]
        }
      ]
    },
    {
      "cell_type": "code",
      "source": [
        "# Test the model\n",
        "test(model, test_loader)"
      ],
      "metadata": {
        "colab": {
          "base_uri": "https://localhost:8080/"
        },
        "id": "cMJR707sIbxF",
        "outputId": "5d05b8f9-c13a-4ce2-d00d-80e4aecd06e2"
      },
      "execution_count": null,
      "outputs": [
        {
          "output_type": "stream",
          "name": "stdout",
          "text": [
            "Accuracy of the model on the test images: 20.43%\n"
          ]
        }
      ]
    },
    {
      "cell_type": "code",
      "source": [],
      "metadata": {
        "id": "JgE7uNmrHKbc"
      },
      "execution_count": null,
      "outputs": []
    }
  ]
}