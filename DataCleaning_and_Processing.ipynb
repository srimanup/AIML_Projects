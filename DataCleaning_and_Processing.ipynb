{
  "cells": [
    {
      "cell_type": "code",
      "execution_count": null,
      "metadata": {
        "colab": {
          "base_uri": "https://localhost:8080/",
          "height": 206
        },
        "id": "wrQZmmKJGxD9",
        "outputId": "529ead05-7355-4659-e78c-2402e938de04"
      },
      "outputs": [
        {
          "data": {
            "text/html": [
              "<div>\n",
              "<style scoped>\n",
              "    .dataframe tbody tr th:only-of-type {\n",
              "        vertical-align: middle;\n",
              "    }\n",
              "\n",
              "    .dataframe tbody tr th {\n",
              "        vertical-align: top;\n",
              "    }\n",
              "\n",
              "    .dataframe thead th {\n",
              "        text-align: right;\n",
              "    }\n",
              "</style>\n",
              "<table border=\"1\" class=\"dataframe\">\n",
              "  <thead>\n",
              "    <tr style=\"text-align: right;\">\n",
              "      <th></th>\n",
              "      <th>v1</th>\n",
              "      <th>v2</th>\n",
              "      <th>Unnamed: 2</th>\n",
              "      <th>Unnamed: 3</th>\n",
              "      <th>Unnamed: 4</th>\n",
              "    </tr>\n",
              "  </thead>\n",
              "  <tbody>\n",
              "    <tr>\n",
              "      <th>0</th>\n",
              "      <td>ham</td>\n",
              "      <td>Go until jurong point, crazy.. Available only ...</td>\n",
              "      <td>NaN</td>\n",
              "      <td>NaN</td>\n",
              "      <td>NaN</td>\n",
              "    </tr>\n",
              "    <tr>\n",
              "      <th>1</th>\n",
              "      <td>ham</td>\n",
              "      <td>Ok lar... Joking wif u oni...</td>\n",
              "      <td>NaN</td>\n",
              "      <td>NaN</td>\n",
              "      <td>NaN</td>\n",
              "    </tr>\n",
              "    <tr>\n",
              "      <th>2</th>\n",
              "      <td>spam</td>\n",
              "      <td>Free entry in 2 a wkly comp to win FA Cup fina...</td>\n",
              "      <td>NaN</td>\n",
              "      <td>NaN</td>\n",
              "      <td>NaN</td>\n",
              "    </tr>\n",
              "    <tr>\n",
              "      <th>3</th>\n",
              "      <td>ham</td>\n",
              "      <td>U dun say so early hor... U c already then say...</td>\n",
              "      <td>NaN</td>\n",
              "      <td>NaN</td>\n",
              "      <td>NaN</td>\n",
              "    </tr>\n",
              "    <tr>\n",
              "      <th>4</th>\n",
              "      <td>ham</td>\n",
              "      <td>Nah I don't think he goes to usf, he lives aro...</td>\n",
              "      <td>NaN</td>\n",
              "      <td>NaN</td>\n",
              "      <td>NaN</td>\n",
              "    </tr>\n",
              "  </tbody>\n",
              "</table>\n",
              "</div>"
            ],
            "text/plain": [
              "     v1                                                 v2 Unnamed: 2  \\\n",
              "0   ham  Go until jurong point, crazy.. Available only ...        NaN   \n",
              "1   ham                      Ok lar... Joking wif u oni...        NaN   \n",
              "2  spam  Free entry in 2 a wkly comp to win FA Cup fina...        NaN   \n",
              "3   ham  U dun say so early hor... U c already then say...        NaN   \n",
              "4   ham  Nah I don't think he goes to usf, he lives aro...        NaN   \n",
              "\n",
              "  Unnamed: 3 Unnamed: 4  \n",
              "0        NaN        NaN  \n",
              "1        NaN        NaN  \n",
              "2        NaN        NaN  \n",
              "3        NaN        NaN  \n",
              "4        NaN        NaN  "
            ]
          },
          "execution_count": 33,
          "metadata": {},
          "output_type": "execute_result"
        }
      ],
      "source": [
        "import pandas as pd\n",
        "import numpy as np\n",
        "df = pd.read_csv('spam.csv',encoding='latin-1')\n",
        "df.head()"
      ]
    },
    {
      "cell_type": "code",
      "execution_count": null,
      "metadata": {
        "id": "BKgFm1hKDi90",
        "outputId": "b3bbd5f4-fdac-4e21-bf33-727f7a43e9b6"
      },
      "outputs": [
        {
          "name": "stdout",
          "output_type": "stream",
          "text": [
            "<class 'pandas.core.frame.DataFrame'>\n",
            "RangeIndex: 5572 entries, 0 to 5571\n",
            "Data columns (total 5 columns):\n",
            " #   Column      Non-Null Count  Dtype \n",
            "---  ------      --------------  ----- \n",
            " 0   v1          5572 non-null   object\n",
            " 1   v2          5572 non-null   object\n",
            " 2   Unnamed: 2  50 non-null     object\n",
            " 3   Unnamed: 3  12 non-null     object\n",
            " 4   Unnamed: 4  6 non-null      object\n",
            "dtypes: object(5)\n",
            "memory usage: 217.8+ KB\n"
          ]
        }
      ],
      "source": [
        "df.info()"
      ]
    },
    {
      "cell_type": "code",
      "execution_count": null,
      "metadata": {
        "colab": {
          "base_uri": "https://localhost:8080/",
          "height": 206
        },
        "id": "6ns0-vfxJK1o",
        "outputId": "2497c26f-5bc5-43c1-d3e3-67d0d48589f2",
        "scrolled": true
      },
      "outputs": [
        {
          "data": {
            "text/html": [
              "<div>\n",
              "<style scoped>\n",
              "    .dataframe tbody tr th:only-of-type {\n",
              "        vertical-align: middle;\n",
              "    }\n",
              "\n",
              "    .dataframe tbody tr th {\n",
              "        vertical-align: top;\n",
              "    }\n",
              "\n",
              "    .dataframe thead th {\n",
              "        text-align: right;\n",
              "    }\n",
              "</style>\n",
              "<table border=\"1\" class=\"dataframe\">\n",
              "  <thead>\n",
              "    <tr style=\"text-align: right;\">\n",
              "      <th></th>\n",
              "      <th>v1</th>\n",
              "      <th>v2</th>\n",
              "    </tr>\n",
              "  </thead>\n",
              "  <tbody>\n",
              "    <tr>\n",
              "      <th>292</th>\n",
              "      <td>ham</td>\n",
              "      <td>Oops. 4 got that bit.</td>\n",
              "    </tr>\n",
              "    <tr>\n",
              "      <th>4720</th>\n",
              "      <td>ham</td>\n",
              "      <td>Yup. Anything lor, if u dun wan it's ok...</td>\n",
              "    </tr>\n",
              "    <tr>\n",
              "      <th>5126</th>\n",
              "      <td>ham</td>\n",
              "      <td>To the wonderful Okors, have a great month. We...</td>\n",
              "    </tr>\n",
              "    <tr>\n",
              "      <th>1687</th>\n",
              "      <td>spam</td>\n",
              "      <td>Free Top ringtone -sub to weekly ringtone-get ...</td>\n",
              "    </tr>\n",
              "    <tr>\n",
              "      <th>4041</th>\n",
              "      <td>ham</td>\n",
              "      <td>What time do u get out?</td>\n",
              "    </tr>\n",
              "  </tbody>\n",
              "</table>\n",
              "</div>"
            ],
            "text/plain": [
              "        v1                                                 v2\n",
              "292    ham                              Oops. 4 got that bit.\n",
              "4720   ham         Yup. Anything lor, if u dun wan it's ok...\n",
              "5126   ham  To the wonderful Okors, have a great month. We...\n",
              "1687  spam  Free Top ringtone -sub to weekly ringtone-get ...\n",
              "4041   ham                            What time do u get out?"
            ]
          },
          "execution_count": 35,
          "metadata": {},
          "output_type": "execute_result"
        }
      ],
      "source": [
        "df.drop(columns=['Unnamed: 2','Unnamed: 3','Unnamed: 4'],inplace= True)\n",
        "df.sample(5)  #Return a random sample of items from an axis of object."
      ]
    },
    {
      "cell_type": "code",
      "execution_count": null,
      "metadata": {
        "colab": {
          "base_uri": "https://localhost:8080/"
        },
        "id": "mQFqAFqKKRPh",
        "outputId": "4038abda-36a3-420c-be80-2dcbf076575e"
      },
      "outputs": [
        {
          "data": {
            "text/plain": [
              "892     0\n",
              "2114    1\n",
              "4360    0\n",
              "2747    0\n",
              "3793    0\n",
              "Name: v1, dtype: int32"
            ]
          },
          "execution_count": 36,
          "metadata": {},
          "output_type": "execute_result"
        }
      ],
      "source": [
        "from sklearn.preprocessing import LabelEncoder\n",
        "encoder =LabelEncoder()\n",
        "df['v1']=encoder.fit_transform(df['v1'])\n",
        "df['v1'].sample(5)"
      ]
    },
    {
      "cell_type": "code",
      "execution_count": null,
      "metadata": {
        "id": "WIYFLsmVK9FK",
        "outputId": "65e9aa55-8612-4e22-8fdf-175a2bb0b71f"
      },
      "outputs": [
        {
          "data": {
            "text/plain": [
              "v1    0\n",
              "v2    0\n",
              "dtype: int64"
            ]
          },
          "execution_count": 37,
          "metadata": {},
          "output_type": "execute_result"
        }
      ],
      "source": [
        "# Check for missing values in each column and sum the number of missing values in each column\n",
        "df.isnull().sum()"
      ]
    },
    {
      "cell_type": "code",
      "execution_count": null,
      "metadata": {
        "id": "P5rlGNX6Di91",
        "outputId": "22c9e59c-8fa7-4077-b4c5-09fc586eee45"
      },
      "outputs": [
        {
          "data": {
            "text/plain": [
              "403"
            ]
          },
          "execution_count": 38,
          "metadata": {},
          "output_type": "execute_result"
        }
      ],
      "source": [
        "# Check for duplicated rows in the DataFrame and sum the number of duplicated rows\n",
        "df.duplicated().sum()"
      ]
    },
    {
      "cell_type": "code",
      "execution_count": null,
      "metadata": {
        "id": "xvKQJD8JDi92",
        "outputId": "f6ae9f61-0deb-4b34-f9ed-ce57668ba8c3"
      },
      "outputs": [
        {
          "data": {
            "text/html": [
              "<div>\n",
              "<style scoped>\n",
              "    .dataframe tbody tr th:only-of-type {\n",
              "        vertical-align: middle;\n",
              "    }\n",
              "\n",
              "    .dataframe tbody tr th {\n",
              "        vertical-align: top;\n",
              "    }\n",
              "\n",
              "    .dataframe thead th {\n",
              "        text-align: right;\n",
              "    }\n",
              "</style>\n",
              "<table border=\"1\" class=\"dataframe\">\n",
              "  <thead>\n",
              "    <tr style=\"text-align: right;\">\n",
              "      <th></th>\n",
              "      <th>v1</th>\n",
              "      <th>v2</th>\n",
              "    </tr>\n",
              "  </thead>\n",
              "  <tbody>\n",
              "    <tr>\n",
              "      <th>3582</th>\n",
              "      <td>0</td>\n",
              "      <td>I sent your maga that money yesterday oh.</td>\n",
              "    </tr>\n",
              "    <tr>\n",
              "      <th>4796</th>\n",
              "      <td>1</td>\n",
              "      <td>Santa calling! Would your little ones like a c...</td>\n",
              "    </tr>\n",
              "    <tr>\n",
              "      <th>3351</th>\n",
              "      <td>0</td>\n",
              "      <td>Call him and say you not coming today ok and t...</td>\n",
              "    </tr>\n",
              "    <tr>\n",
              "      <th>253</th>\n",
              "      <td>0</td>\n",
              "      <td>Ups which is 3days also, and the shipping comp...</td>\n",
              "    </tr>\n",
              "    <tr>\n",
              "      <th>1173</th>\n",
              "      <td>0</td>\n",
              "      <td>ÌÏ dun need to pick ur gf?</td>\n",
              "    </tr>\n",
              "  </tbody>\n",
              "</table>\n",
              "</div>"
            ],
            "text/plain": [
              "      v1                                                 v2\n",
              "3582   0          I sent your maga that money yesterday oh.\n",
              "4796   1  Santa calling! Would your little ones like a c...\n",
              "3351   0  Call him and say you not coming today ok and t...\n",
              "253    0  Ups which is 3days also, and the shipping comp...\n",
              "1173   0                         ÌÏ dun need to pick ur gf?"
            ]
          },
          "execution_count": 39,
          "metadata": {},
          "output_type": "execute_result"
        }
      ],
      "source": [
        "# Remove duplicated rows from the DataFrame and update the DataFrame with the modified version\n",
        "df.drop_duplicates(inplace=True)\n",
        "df.sample(5)"
      ]
    },
    {
      "cell_type": "code",
      "execution_count": null,
      "metadata": {
        "colab": {
          "base_uri": "https://localhost:8080/",
          "height": 406
        },
        "id": "op1Ww2QfLusg",
        "outputId": "d53fc5ef-1d09-46b0-8d8e-61600823c2a4"
      },
      "outputs": [
        {
          "data": {
            "image/png": "[encoded data removed]",
            "text/plain": [
              "<Figure size 640x480 with 1 Axes>"
            ]
          },
          "metadata": {},
          "output_type": "display_data"
        }
      ],
      "source": [
        "import seaborn as sns\n",
        "import matplotlib.pyplot as plt\n",
        "df['v1'].value_counts() #Return a Series containing the frequency of each distinct row in the Dataframe.\n",
        "plt.pie(df['v1'].value_counts(),labels=[' Ham','Spam'],autopct='%0.2f')\n",
        "#To add percentages to each of the constitutents of the pie chart,add autopct='%1.1f%%', to the plt.pie() function.\n",
        "#This formats the percentage to the tenth place.\n",
        "# to format the percentage to the hundredths place,  use the statement, autopct='%1.2f%%'\n",
        "# to format the percentage to the thousandths place,  use the statement, autopct='%1.3f%%'\n",
        "plt.show()"
      ]
    },
    {
      "cell_type": "code",
      "execution_count": null,
      "metadata": {
        "colab": {
          "base_uri": "https://localhost:8080/",
          "height": 335
        },
        "id": "-d5pPY-DN_Ve",
        "outputId": "efd7a8e6-8961-4934-d99b-c0f4b28c049c"
      },
      "outputs": [
        {
          "name": "stderr",
          "output_type": "stream",
          "text": [
            "[nltk_data] Downloading package punkt to\n",
            "[nltk_data]     C:\\Users\\nikhi\\AppData\\Roaming\\nltk_data...\n",
            "[nltk_data]   Package punkt is already up-to-date!\n"
          ]
        },
        {
          "data": {
            "text/html": [
              "<div>\n",
              "<style scoped>\n",
              "    .dataframe tbody tr th:only-of-type {\n",
              "        vertical-align: middle;\n",
              "    }\n",
              "\n",
              "    .dataframe tbody tr th {\n",
              "        vertical-align: top;\n",
              "    }\n",
              "\n",
              "    .dataframe thead th {\n",
              "        text-align: right;\n",
              "    }\n",
              "</style>\n",
              "<table border=\"1\" class=\"dataframe\">\n",
              "  <thead>\n",
              "    <tr style=\"text-align: right;\">\n",
              "      <th></th>\n",
              "      <th>v1</th>\n",
              "      <th>v2</th>\n",
              "      <th>num_characters</th>\n",
              "      <th>tokenized_text</th>\n",
              "      <th>num_words</th>\n",
              "    </tr>\n",
              "  </thead>\n",
              "  <tbody>\n",
              "    <tr>\n",
              "      <th>0</th>\n",
              "      <td>0</td>\n",
              "      <td>Go until jurong point, crazy.. Available only ...</td>\n",
              "      <td>111</td>\n",
              "      <td>[Go, until, jurong, point, ,, crazy, .., Avail...</td>\n",
              "      <td>24</td>\n",
              "    </tr>\n",
              "    <tr>\n",
              "      <th>1</th>\n",
              "      <td>0</td>\n",
              "      <td>Ok lar... Joking wif u oni...</td>\n",
              "      <td>29</td>\n",
              "      <td>[Ok, lar, ..., Joking, wif, u, oni, ...]</td>\n",
              "      <td>8</td>\n",
              "    </tr>\n",
              "    <tr>\n",
              "      <th>2</th>\n",
              "      <td>1</td>\n",
              "      <td>Free entry in 2 a wkly comp to win FA Cup fina...</td>\n",
              "      <td>155</td>\n",
              "      <td>[Free, entry, in, 2, a, wkly, comp, to, win, F...</td>\n",
              "      <td>37</td>\n",
              "    </tr>\n",
              "    <tr>\n",
              "      <th>3</th>\n",
              "      <td>0</td>\n",
              "      <td>U dun say so early hor... U c already then say...</td>\n",
              "      <td>49</td>\n",
              "      <td>[U, dun, say, so, early, hor, ..., U, c, alrea...</td>\n",
              "      <td>13</td>\n",
              "    </tr>\n",
              "    <tr>\n",
              "      <th>4</th>\n",
              "      <td>0</td>\n",
              "      <td>Nah I don't think he goes to usf, he lives aro...</td>\n",
              "      <td>61</td>\n",
              "      <td>[Nah, I, do, n't, think, he, goes, to, usf, ,,...</td>\n",
              "      <td>15</td>\n",
              "    </tr>\n",
              "  </tbody>\n",
              "</table>\n",
              "</div>"
            ],
            "text/plain": [
              "   v1                                                 v2  num_characters  \\\n",
              "0   0  Go until jurong point, crazy.. Available only ...             111   \n",
              "1   0                      Ok lar... Joking wif u oni...              29   \n",
              "2   1  Free entry in 2 a wkly comp to win FA Cup fina...             155   \n",
              "3   0  U dun say so early hor... U c already then say...              49   \n",
              "4   0  Nah I don't think he goes to usf, he lives aro...              61   \n",
              "\n",
              "                                      tokenized_text  num_words  \n",
              "0  [Go, until, jurong, point, ,, crazy, .., Avail...         24  \n",
              "1           [Ok, lar, ..., Joking, wif, u, oni, ...]          8  \n",
              "2  [Free, entry, in, 2, a, wkly, comp, to, win, F...         37  \n",
              "3  [U, dun, say, so, early, hor, ..., U, c, alrea...         13  \n",
              "4  [Nah, I, do, n't, think, he, goes, to, usf, ,,...         15  "
            ]
          },
          "execution_count": 41,
          "metadata": {},
          "output_type": "execute_result"
        }
      ],
      "source": [
        "# Downloading 'punkt' package from NLTK (Natural Language Toolkit) for tokenization\n",
        "import nltk\n",
        "nltk.download('punkt')\n",
        "\n",
        "# Calculate the number of characters in each text message and create a new column 'num_characters'\n",
        "df['num_characters'] = df['v2'].apply(len)\n",
        "\n",
        "# Tokenize each text message into words using NLTK's word_tokenize function\n",
        "from nltk.tokenize import word_tokenize\n",
        "df['tokenized_text'] = df['v2'].apply(lambda x: nltk.word_tokenize(x))\n",
        "\n",
        "# Calculate ASCII values for each character in the 'v1' column and create a new column 'ascii'\n",
        "df['ascii'] = df['v1'].apply(lambda x: ord(str(x)))\n",
        "\n",
        "# Remove the 'ascii' column from the DataFrame\n",
        "df.drop(columns=['ascii'], inplace=True)\n",
        "\n",
        "# Calculate the number of words in each text message and create a new column 'num_words'\n",
        "df['num_words'] = df['v2'].apply(lambda x: len(nltk.word_tokenize(x)))\n",
        "\n",
        "# Display the DataFrame head to visualize the changes\n",
        "df.head()"
      ]
    },
    {
      "cell_type": "code",
      "execution_count": null,
      "metadata": {
        "id": "vchig23ToAWB",
        "outputId": "3d65c194-8222-4f08-8eb1-761b29a63609"
      },
      "outputs": [
        {
          "data": {
            "text/html": [
              "<div>\n",
              "<style scoped>\n",
              "    .dataframe tbody tr th:only-of-type {\n",
              "        vertical-align: middle;\n",
              "    }\n",
              "\n",
              "    .dataframe tbody tr th {\n",
              "        vertical-align: top;\n",
              "    }\n",
              "\n",
              "    .dataframe thead th {\n",
              "        text-align: right;\n",
              "    }\n",
              "</style>\n",
              "<table border=\"1\" class=\"dataframe\">\n",
              "  <thead>\n",
              "    <tr style=\"text-align: right;\">\n",
              "      <th></th>\n",
              "      <th>num_characters</th>\n",
              "      <th>num_words</th>\n",
              "    </tr>\n",
              "  </thead>\n",
              "  <tbody>\n",
              "    <tr>\n",
              "      <th>count</th>\n",
              "      <td>4516.000000</td>\n",
              "      <td>4516.000000</td>\n",
              "    </tr>\n",
              "    <tr>\n",
              "      <th>mean</th>\n",
              "      <td>70.459256</td>\n",
              "      <td>17.123782</td>\n",
              "    </tr>\n",
              "    <tr>\n",
              "      <th>std</th>\n",
              "      <td>56.358207</td>\n",
              "      <td>13.493970</td>\n",
              "    </tr>\n",
              "    <tr>\n",
              "      <th>min</th>\n",
              "      <td>2.000000</td>\n",
              "      <td>1.000000</td>\n",
              "    </tr>\n",
              "    <tr>\n",
              "      <th>25%</th>\n",
              "      <td>34.000000</td>\n",
              "      <td>8.000000</td>\n",
              "    </tr>\n",
              "    <tr>\n",
              "      <th>50%</th>\n",
              "      <td>52.000000</td>\n",
              "      <td>13.000000</td>\n",
              "    </tr>\n",
              "    <tr>\n",
              "      <th>75%</th>\n",
              "      <td>90.000000</td>\n",
              "      <td>22.000000</td>\n",
              "    </tr>\n",
              "    <tr>\n",
              "      <th>max</th>\n",
              "      <td>910.000000</td>\n",
              "      <td>220.000000</td>\n",
              "    </tr>\n",
              "  </tbody>\n",
              "</table>\n",
              "</div>"
            ],
            "text/plain": [
              "       num_characters    num_words\n",
              "count     4516.000000  4516.000000\n",
              "mean        70.459256    17.123782\n",
              "std         56.358207    13.493970\n",
              "min          2.000000     1.000000\n",
              "25%         34.000000     8.000000\n",
              "50%         52.000000    13.000000\n",
              "75%         90.000000    22.000000\n",
              "max        910.000000   220.000000"
            ]
          },
          "execution_count": 42,
          "metadata": {},
          "output_type": "execute_result"
        }
      ],
      "source": [
        "# Statistics for 'num_characters' and 'num_words' columns for ham messages\n",
        "df[df['v1'] == 0][['num_characters', 'num_words']].describe()"
      ]
    },
    {
      "cell_type": "code",
      "execution_count": null,
      "metadata": {
        "id": "h-94G3MbDi93",
        "outputId": "e35d6acf-0407-4e05-8305-5bcbae60e74f"
      },
      "outputs": [
        {
          "data": {
            "text/html": [
              "<div>\n",
              "<style scoped>\n",
              "    .dataframe tbody tr th:only-of-type {\n",
              "        vertical-align: middle;\n",
              "    }\n",
              "\n",
              "    .dataframe tbody tr th {\n",
              "        vertical-align: top;\n",
              "    }\n",
              "\n",
              "    .dataframe thead th {\n",
              "        text-align: right;\n",
              "    }\n",
              "</style>\n",
              "<table border=\"1\" class=\"dataframe\">\n",
              "  <thead>\n",
              "    <tr style=\"text-align: right;\">\n",
              "      <th></th>\n",
              "      <th>num_characters</th>\n",
              "      <th>num_words</th>\n",
              "    </tr>\n",
              "  </thead>\n",
              "  <tbody>\n",
              "    <tr>\n",
              "      <th>count</th>\n",
              "      <td>653.000000</td>\n",
              "      <td>653.000000</td>\n",
              "    </tr>\n",
              "    <tr>\n",
              "      <th>mean</th>\n",
              "      <td>137.891271</td>\n",
              "      <td>27.667688</td>\n",
              "    </tr>\n",
              "    <tr>\n",
              "      <th>std</th>\n",
              "      <td>30.137753</td>\n",
              "      <td>7.008418</td>\n",
              "    </tr>\n",
              "    <tr>\n",
              "      <th>min</th>\n",
              "      <td>13.000000</td>\n",
              "      <td>2.000000</td>\n",
              "    </tr>\n",
              "    <tr>\n",
              "      <th>25%</th>\n",
              "      <td>132.000000</td>\n",
              "      <td>25.000000</td>\n",
              "    </tr>\n",
              "    <tr>\n",
              "      <th>50%</th>\n",
              "      <td>149.000000</td>\n",
              "      <td>29.000000</td>\n",
              "    </tr>\n",
              "    <tr>\n",
              "      <th>75%</th>\n",
              "      <td>157.000000</td>\n",
              "      <td>32.000000</td>\n",
              "    </tr>\n",
              "    <tr>\n",
              "      <th>max</th>\n",
              "      <td>224.000000</td>\n",
              "      <td>46.000000</td>\n",
              "    </tr>\n",
              "  </tbody>\n",
              "</table>\n",
              "</div>"
            ],
            "text/plain": [
              "       num_characters   num_words\n",
              "count      653.000000  653.000000\n",
              "mean       137.891271   27.667688\n",
              "std         30.137753    7.008418\n",
              "min         13.000000    2.000000\n",
              "25%        132.000000   25.000000\n",
              "50%        149.000000   29.000000\n",
              "75%        157.000000   32.000000\n",
              "max        224.000000   46.000000"
            ]
          },
          "execution_count": 43,
          "metadata": {},
          "output_type": "execute_result"
        }
      ],
      "source": [
        "# Statistics for 'num_characters' and 'num_words' columns for spam messages\n",
        "df[df['v1'] == 1][['num_characters', 'num_words']].describe()"
      ]
    },
    {
      "cell_type": "code",
      "execution_count": null,
      "metadata": {
        "colab": {
          "background_save": true
        },
        "id": "Ag_rXsTGn3Hh",
        "outputId": "9a254504-6052-41a0-85b8-0401664a5107"
      },
      "outputs": [
        {
          "data": {
            "image/png": "[encoded data removed]",
            "text/plain": [
              "<Figure size 1200x600 with 1 Axes>"
            ]
          },
          "metadata": {},
          "output_type": "display_data"
        }
      ],
      "source": [
        "import matplotlib.pyplot as plt\n",
        "import seaborn as sns\n",
        "\n",
        "# Plot histograms of 'num_characters' for ham and spam messages\n",
        "plt.figure(figsize=(12, 6))\n",
        "sns.histplot(df[df['v1'] == 0]['num_characters'], color='green', label='Ham')\n",
        "sns.histplot(df[df['v1'] == 1]['num_characters'], color='red', label='Spam')\n",
        "plt.xlabel('Number of Characters')\n",
        "plt.ylabel('Frequency')\n",
        "plt.title('Histogram of Number of Characters')\n",
        "plt.legend()\n",
        "plt.show()"
      ]
    },
    {
      "cell_type": "code",
      "execution_count": null,
      "metadata": {
        "id": "Cga05d7oDi93",
        "outputId": "67c9ab7a-c98a-4324-ffac-4dd2cb95e00c"
      },
      "outputs": [
        {
          "data": {
            "image/png": "[encoded data removed]",
            "text/plain": [
              "<Figure size 1200x600 with 1 Axes>"
            ]
          },
          "metadata": {},
          "output_type": "display_data"
        }
      ],
      "source": [
        "# Plot histograms of 'num_words' for ham and spam messages\n",
        "plt.figure(figsize=(12, 6))\n",
        "sns.histplot(df[df['v1'] == 0]['num_words'], color='green', label='Ham')\n",
        "sns.histplot(df[df['v1'] == 1]['num_words'], color='red', label='Spam')\n",
        "plt.xlabel('Number of Words')\n",
        "plt.ylabel('Frequency')\n",
        "plt.title('Histogram of Number of Words')\n",
        "plt.legend()\n",
        "plt.show()"
      ]
    },
    {
      "cell_type": "code",
      "execution_count": null,
      "metadata": {
        "id": "JhuPSAixDi94",
        "outputId": "9758b641-0c0f-4143-c7b5-df00d57a88aa"
      },
      "outputs": [
        {
          "name": "stdout",
          "output_type": "stream",
          "text": [
            "[0 1]\n"
          ]
        }
      ],
      "source": [
        "# Check unique values in 'v1' column\n",
        "print(df['v1'].unique())"
      ]
    },
    {
      "cell_type": "code",
      "execution_count": null,
      "metadata": {
        "id": "voC_St_xDi94",
        "outputId": "7f9f5881-630d-4381-8c7e-bdca12019498"
      },
      "outputs": [
        {
          "name": "stdout",
          "output_type": "stream",
          "text": [
            "                                                  v2  \\\n",
            "0  Go until jurong point, crazy.. Available only ...   \n",
            "1                      Ok lar... Joking wif u oni...   \n",
            "2  Free entry in 2 a wkly comp to win FA Cup fina...   \n",
            "3  U dun say so early hor... U c already then say...   \n",
            "4  Nah I don't think he goes to usf, he lives aro...   \n",
            "\n",
            "                                      tokenized_text  \n",
            "0  [Go, until, jurong, point, ,, crazy, .., Avail...  \n",
            "1           [Ok, lar, ..., Joking, wif, u, oni, ...]  \n",
            "2  [Free, entry, in, 2, a, wkly, comp, to, win, F...  \n",
            "3  [U, dun, say, so, early, hor, ..., U, c, alrea...  \n",
            "4  [Nah, I, do, n't, think, he, goes, to, usf, ,,...  \n"
          ]
        }
      ],
      "source": [
        "# Check for non-numeric values in the DataFrame, excluding 'v2' column\n",
        "non_numeric_columns = df.select_dtypes(exclude=['number']).columns\n",
        "print(df[non_numeric_columns].head())"
      ]
    },
    {
      "cell_type": "code",
      "execution_count": null,
      "metadata": {
        "id": "K4vixvLNDi94",
        "outputId": "1a14129c-3bf5-4fee-e90d-3475e68dae62"
      },
      "outputs": [
        {
          "data": {
            "image/png": "[encoded data removed]",
            "text/plain": [
              "<Figure size 1000x800 with 2 Axes>"
            ]
          },
          "metadata": {},
          "output_type": "display_data"
        }
      ],
      "source": [
        "# Select only numeric columns for computing correlation matrix\n",
        "numeric_df = df.select_dtypes(include=['number'])\n",
        "\n",
        "# Compute correlation matrix\n",
        "correlation_df = numeric_df.corr()\n",
        "\n",
        "# Plot heatmap\n",
        "plt.figure(figsize=(10, 8))\n",
        "sns.heatmap(correlation_df, annot=True, cmap='coolwarm')\n",
        "plt.title('Correlation Matrix')\n",
        "plt.show()\n"
      ]
    },
    {
      "cell_type": "code",
      "execution_count": null,
      "metadata": {
        "id": "YGM0_2C0Di94"
      },
      "outputs": [],
      "source": [
        "def text_transform(message):\n",
        "    message = message.lower()  # Convert to lowercase\n",
        "    message = nltk.word_tokenize(message)\n",
        "    y = []\n",
        "\n",
        "    # Check for punctuations and stopwords\n",
        "    for i in message:\n",
        "        if i not in stopwords.words('english') and i not in string.punctuation:\n",
        "            y.append(i)\n",
        "    message = y[:]\n",
        "    y.clear()\n",
        "\n",
        "    # Apply stemming\n",
        "    for i in message:\n",
        "        y.append(ps.stem(i))\n",
        "\n",
        "    return \" \".join(y)  # Return the transformed message as a string"
      ]
    },
    {
      "cell_type": "code",
      "execution_count": null,
      "metadata": {
        "id": "c6OI3Ri7Di94",
        "outputId": "41075cb4-9285-4a87-ffbb-88cdd333ecc1"
      },
      "outputs": [
        {
          "name": "stdout",
          "output_type": "stream",
          "text": [
            "179\n",
            "!\"#$%&'()*+,-./:;<=>?@[\\]^_`{|}~\n"
          ]
        },
        {
          "name": "stderr",
          "output_type": "stream",
          "text": [
            "[nltk_data] Downloading package stopwords to\n",
            "[nltk_data]     C:\\Users\\nikhi\\AppData\\Roaming\\nltk_data...\n",
            "[nltk_data]   Package stopwords is already up-to-date!\n"
          ]
        }
      ],
      "source": [
        "# Download stopwords from NLTK\n",
        "nltk.download('stopwords')\n",
        "from nltk.corpus import stopwords\n",
        "\n",
        "# Display the number of stopwords in English\n",
        "print(len(stopwords.words('english')))\n",
        "\n",
        "# Import punctuation from string module\n",
        "import string\n",
        "\n",
        "# Display all punctuations\n",
        "print(string.punctuation)"
      ]
    },
    {
      "cell_type": "code",
      "execution_count": null,
      "metadata": {
        "id": "QCnTyBBADi95",
        "outputId": "07cf39eb-44df-4c6f-d597-b6e8709be83b"
      },
      "outputs": [
        {
          "data": {
            "text/html": [
              "<div>\n",
              "<style scoped>\n",
              "    .dataframe tbody tr th:only-of-type {\n",
              "        vertical-align: middle;\n",
              "    }\n",
              "\n",
              "    .dataframe tbody tr th {\n",
              "        vertical-align: top;\n",
              "    }\n",
              "\n",
              "    .dataframe thead th {\n",
              "        text-align: right;\n",
              "    }\n",
              "</style>\n",
              "<table border=\"1\" class=\"dataframe\">\n",
              "  <thead>\n",
              "    <tr style=\"text-align: right;\">\n",
              "      <th></th>\n",
              "      <th>v1</th>\n",
              "      <th>v2</th>\n",
              "      <th>num_characters</th>\n",
              "      <th>tokenized_text</th>\n",
              "      <th>num_words</th>\n",
              "      <th>transformed_msg</th>\n",
              "    </tr>\n",
              "  </thead>\n",
              "  <tbody>\n",
              "    <tr>\n",
              "      <th>0</th>\n",
              "      <td>0</td>\n",
              "      <td>Go until jurong point, crazy.. Available only ...</td>\n",
              "      <td>111</td>\n",
              "      <td>[Go, until, jurong, point, ,, crazy, .., Avail...</td>\n",
              "      <td>24</td>\n",
              "      <td>go jurong point crazi .. avail bugi n great wo...</td>\n",
              "    </tr>\n",
              "    <tr>\n",
              "      <th>1</th>\n",
              "      <td>0</td>\n",
              "      <td>Ok lar... Joking wif u oni...</td>\n",
              "      <td>29</td>\n",
              "      <td>[Ok, lar, ..., Joking, wif, u, oni, ...]</td>\n",
              "      <td>8</td>\n",
              "      <td>ok lar ... joke wif u oni ...</td>\n",
              "    </tr>\n",
              "    <tr>\n",
              "      <th>2</th>\n",
              "      <td>1</td>\n",
              "      <td>Free entry in 2 a wkly comp to win FA Cup fina...</td>\n",
              "      <td>155</td>\n",
              "      <td>[Free, entry, in, 2, a, wkly, comp, to, win, F...</td>\n",
              "      <td>37</td>\n",
              "      <td>free entri 2 wkli comp win fa cup final tkt 21...</td>\n",
              "    </tr>\n",
              "    <tr>\n",
              "      <th>3</th>\n",
              "      <td>0</td>\n",
              "      <td>U dun say so early hor... U c already then say...</td>\n",
              "      <td>49</td>\n",
              "      <td>[U, dun, say, so, early, hor, ..., U, c, alrea...</td>\n",
              "      <td>13</td>\n",
              "      <td>u dun say earli hor ... u c alreadi say ...</td>\n",
              "    </tr>\n",
              "    <tr>\n",
              "      <th>4</th>\n",
              "      <td>0</td>\n",
              "      <td>Nah I don't think he goes to usf, he lives aro...</td>\n",
              "      <td>61</td>\n",
              "      <td>[Nah, I, do, n't, think, he, goes, to, usf, ,,...</td>\n",
              "      <td>15</td>\n",
              "      <td>nah n't think goe usf live around though</td>\n",
              "    </tr>\n",
              "  </tbody>\n",
              "</table>\n",
              "</div>"
            ],
            "text/plain": [
              "   v1                                                 v2  num_characters  \\\n",
              "0   0  Go until jurong point, crazy.. Available only ...             111   \n",
              "1   0                      Ok lar... Joking wif u oni...              29   \n",
              "2   1  Free entry in 2 a wkly comp to win FA Cup fina...             155   \n",
              "3   0  U dun say so early hor... U c already then say...              49   \n",
              "4   0  Nah I don't think he goes to usf, he lives aro...              61   \n",
              "\n",
              "                                      tokenized_text  num_words  \\\n",
              "0  [Go, until, jurong, point, ,, crazy, .., Avail...         24   \n",
              "1           [Ok, lar, ..., Joking, wif, u, oni, ...]          8   \n",
              "2  [Free, entry, in, 2, a, wkly, comp, to, win, F...         37   \n",
              "3  [U, dun, say, so, early, hor, ..., U, c, alrea...         13   \n",
              "4  [Nah, I, do, n't, think, he, goes, to, usf, ,,...         15   \n",
              "\n",
              "                                     transformed_msg  \n",
              "0  go jurong point crazi .. avail bugi n great wo...  \n",
              "1                      ok lar ... joke wif u oni ...  \n",
              "2  free entri 2 wkli comp win fa cup final tkt 21...  \n",
              "3        u dun say earli hor ... u c alreadi say ...  \n",
              "4           nah n't think goe usf live around though  "
            ]
          },
          "execution_count": 59,
          "metadata": {},
          "output_type": "execute_result"
        }
      ],
      "source": [
        "# Import PorterStemmer for stemming\n",
        "from nltk.stem.porter import PorterStemmer\n",
        "ps = PorterStemmer()\n",
        "\n",
        "# Apply text transformation to the 'v2' column and store the result in 'transformed_msg'\n",
        "df['transformed_msg'] = df['v2'].apply(text_transform)\n",
        "\n",
        "\n",
        "df.head(5)"
      ]
    },
    {
      "cell_type": "code",
      "execution_count": null,
      "metadata": {
        "id": "GOwv_3ywDi95"
      },
      "outputs": [],
      "source": [
        "# Calculate the number of words in each text message and create a new column 'num_words'\n",
        "df['new_num_words'] = df['transformed_msg'].apply(lambda x: len(nltk.word_tokenize(x)))"
      ]
    },
    {
      "cell_type": "code",
      "execution_count": null,
      "metadata": {
        "id": "G5CB2nOGDi95",
        "outputId": "c86f3a43-1ed5-4103-f909-f2888b0d9314"
      },
      "outputs": [
        {
          "data": {
            "text/html": [
              "<div>\n",
              "<style scoped>\n",
              "    .dataframe tbody tr th:only-of-type {\n",
              "        vertical-align: middle;\n",
              "    }\n",
              "\n",
              "    .dataframe tbody tr th {\n",
              "        vertical-align: top;\n",
              "    }\n",
              "\n",
              "    .dataframe thead th {\n",
              "        text-align: right;\n",
              "    }\n",
              "</style>\n",
              "<table border=\"1\" class=\"dataframe\">\n",
              "  <thead>\n",
              "    <tr style=\"text-align: right;\">\n",
              "      <th></th>\n",
              "      <th>v1</th>\n",
              "      <th>v2</th>\n",
              "      <th>num_characters</th>\n",
              "      <th>tokenized_text</th>\n",
              "      <th>num_words</th>\n",
              "      <th>transformed_msg</th>\n",
              "      <th>new_num_words</th>\n",
              "    </tr>\n",
              "  </thead>\n",
              "  <tbody>\n",
              "    <tr>\n",
              "      <th>0</th>\n",
              "      <td>0</td>\n",
              "      <td>Go until jurong point, crazy.. Available only ...</td>\n",
              "      <td>111</td>\n",
              "      <td>[Go, until, jurong, point, ,, crazy, .., Avail...</td>\n",
              "      <td>24</td>\n",
              "      <td>go jurong point crazi .. avail bugi n great wo...</td>\n",
              "      <td>19</td>\n",
              "    </tr>\n",
              "    <tr>\n",
              "      <th>1</th>\n",
              "      <td>0</td>\n",
              "      <td>Ok lar... Joking wif u oni...</td>\n",
              "      <td>29</td>\n",
              "      <td>[Ok, lar, ..., Joking, wif, u, oni, ...]</td>\n",
              "      <td>8</td>\n",
              "      <td>ok lar ... joke wif u oni ...</td>\n",
              "      <td>8</td>\n",
              "    </tr>\n",
              "    <tr>\n",
              "      <th>2</th>\n",
              "      <td>1</td>\n",
              "      <td>Free entry in 2 a wkly comp to win FA Cup fina...</td>\n",
              "      <td>155</td>\n",
              "      <td>[Free, entry, in, 2, a, wkly, comp, to, win, F...</td>\n",
              "      <td>37</td>\n",
              "      <td>free entri 2 wkli comp win fa cup final tkt 21...</td>\n",
              "      <td>27</td>\n",
              "    </tr>\n",
              "    <tr>\n",
              "      <th>3</th>\n",
              "      <td>0</td>\n",
              "      <td>U dun say so early hor... U c already then say...</td>\n",
              "      <td>49</td>\n",
              "      <td>[U, dun, say, so, early, hor, ..., U, c, alrea...</td>\n",
              "      <td>13</td>\n",
              "      <td>u dun say earli hor ... u c alreadi say ...</td>\n",
              "      <td>11</td>\n",
              "    </tr>\n",
              "    <tr>\n",
              "      <th>4</th>\n",
              "      <td>0</td>\n",
              "      <td>Nah I don't think he goes to usf, he lives aro...</td>\n",
              "      <td>61</td>\n",
              "      <td>[Nah, I, do, n't, think, he, goes, to, usf, ,,...</td>\n",
              "      <td>15</td>\n",
              "      <td>nah n't think goe usf live around though</td>\n",
              "      <td>8</td>\n",
              "    </tr>\n",
              "  </tbody>\n",
              "</table>\n",
              "</div>"
            ],
            "text/plain": [
              "   v1                                                 v2  num_characters  \\\n",
              "0   0  Go until jurong point, crazy.. Available only ...             111   \n",
              "1   0                      Ok lar... Joking wif u oni...              29   \n",
              "2   1  Free entry in 2 a wkly comp to win FA Cup fina...             155   \n",
              "3   0  U dun say so early hor... U c already then say...              49   \n",
              "4   0  Nah I don't think he goes to usf, he lives aro...              61   \n",
              "\n",
              "                                      tokenized_text  num_words  \\\n",
              "0  [Go, until, jurong, point, ,, crazy, .., Avail...         24   \n",
              "1           [Ok, lar, ..., Joking, wif, u, oni, ...]          8   \n",
              "2  [Free, entry, in, 2, a, wkly, comp, to, win, F...         37   \n",
              "3  [U, dun, say, so, early, hor, ..., U, c, alrea...         13   \n",
              "4  [Nah, I, do, n't, think, he, goes, to, usf, ,,...         15   \n",
              "\n",
              "                                     transformed_msg  new_num_words  \n",
              "0  go jurong point crazi .. avail bugi n great wo...             19  \n",
              "1                      ok lar ... joke wif u oni ...              8  \n",
              "2  free entri 2 wkli comp win fa cup final tkt 21...             27  \n",
              "3        u dun say earli hor ... u c alreadi say ...             11  \n",
              "4           nah n't think goe usf live around though              8  "
            ]
          },
          "execution_count": 65,
          "metadata": {},
          "output_type": "execute_result"
        }
      ],
      "source": [
        "df.head()"
      ]
    },
    {
      "cell_type": "code",
      "execution_count": null,
      "metadata": {
        "id": "isn8DDEnDi95",
        "outputId": "6be65350-f507-4600-dca2-30cf2acc9ea4"
      },
      "outputs": [
        {
          "name": "stdout",
          "output_type": "stream",
          "text": [
            "Size of X: (5169, 3000)\n",
            "[0 0 1 ... 0 0 0]\n"
          ]
        }
      ],
      "source": [
        "# Import TfidfVectorizer to convert text into TF-IDF features\n",
        "from sklearn.feature_extraction.text import TfidfVectorizer\n",
        "tfidf = TfidfVectorizer(max_features=3000)\n",
        "X = tfidf.fit_transform(df['transformed_msg']).toarray()\n",
        "y = df['v1'].values\n",
        "\n",
        "print(\"Size of X:\", X.shape)\n",
        "print(y)"
      ]
    },
    {
      "cell_type": "code",
      "execution_count": null,
      "metadata": {
        "id": "YtQDKH2tDi96"
      },
      "outputs": [],
      "source": [
        "# Split the dataset into training and testing sets\n",
        "from sklearn.model_selection import train_test_split\n",
        "X_train, X_test, y_train, y_test = train_test_split(X, y, test_size=0.2, random_state=2)"
      ]
    },
    {
      "cell_type": "code",
      "execution_count": null,
      "metadata": {
        "id": "JImNFiZjDi96",
        "outputId": "e20c4583-b140-49f7-ac5f-40d898080836"
      },
      "outputs": [
        {
          "name": "stdout",
          "output_type": "stream",
          "text": [
            "Accuracy score of Gaussian NB is:  0.8781431334622823\n",
            "Confusion Matrix of Gaussian NB is:  [[790 106]\n",
            " [ 20 118]]\n",
            "Precision score of the Gaussian NB is 0.5267857142857143\n"
          ]
        }
      ],
      "source": [
        "# Import Naive Bayes classifiers\n",
        "from sklearn.naive_bayes import GaussianNB, BernoulliNB, MultinomialNB\n",
        "\n",
        "# Import evaluation metrics\n",
        "from sklearn.metrics import accuracy_score, confusion_matrix, precision_score\n",
        "\n",
        "# Initialize the Naive Bayes classifiers\n",
        "gnb = GaussianNB()\n",
        "bnb = BernoulliNB()\n",
        "mnb = MultinomialNB()\n",
        "\n",
        "# Fit Gaussian Naive Bayes classifier to the training data\n",
        "gnb.fit(X_train, y_train)\n",
        "\n",
        "# Make predictions on the testing data\n",
        "y_pred1 = gnb.predict(X_test)\n",
        "\n",
        "# Print accuracy, confusion matrix, and precision score for Gaussian Naive Bayes\n",
        "print('Accuracy score of Gaussian NB is: ', accuracy_score(y_test, y_pred1))\n",
        "print('Confusion Matrix of Gaussian NB is: ', confusion_matrix(y_test, y_pred1))\n",
        "print('Precision score of the Gaussian NB is', precision_score(y_test, y_pred1))"
      ]
    },
    {
      "cell_type": "code",
      "execution_count": null,
      "metadata": {
        "id": "g9R3AzCqDi96",
        "outputId": "6425a9cf-cdd9-440a-b34c-d615a66deeab"
      },
      "outputs": [
        {
          "name": "stdout",
          "output_type": "stream",
          "text": [
            "Accuracy score of Bernoulli NB is:  0.988394584139265\n",
            "Confusion Matrix of Bernoulli NB is:  [[896   0]\n",
            " [ 12 126]]\n",
            "Precision score of Bernoulli NB is 1.0\n"
          ]
        }
      ],
      "source": [
        "# Initialize the Bernoulli Naive Bayes classifier\n",
        "bnb = BernoulliNB()\n",
        "\n",
        "# Fit Bernoulli Naive Bayes classifier to the training data\n",
        "bnb.fit(X_train, y_train)\n",
        "\n",
        "# Make predictions on the testing data using Bernoulli Naive Bayes\n",
        "y_pred2 = bnb.predict(X_test)\n",
        "\n",
        "# Print accuracy, confusion matrix, and precision score for Bernoulli Naive Bayes\n",
        "print('Accuracy score of Bernoulli NB is: ', accuracy_score(y_test, y_pred2))\n",
        "print('Confusion Matrix of Bernoulli NB is: ', confusion_matrix(y_test, y_pred2))\n",
        "print('Precision score of Bernoulli NB is', precision_score(y_test, y_pred2))"
      ]
    },
    {
      "cell_type": "code",
      "execution_count": null,
      "metadata": {
        "id": "1_svcwXLDi96",
        "outputId": "bf1a0e0e-663f-43c0-eea9-13fe53c7f4aa"
      },
      "outputs": [
        {
          "name": "stdout",
          "output_type": "stream",
          "text": [
            "Accuracy score of Multinomial NB is:  0.9748549323017408\n",
            "Confusion Matrix of Multinomial NB is:  [[896   0]\n",
            " [ 26 112]]\n",
            "Precision score of Multinomial NB is 1.0\n"
          ]
        }
      ],
      "source": [
        "# Initialize the Multinomial Naive Bayes classifier\n",
        "mnb = MultinomialNB()\n",
        "\n",
        "# Fit Multinomial Naive Bayes classifier to the training data\n",
        "mnb.fit(X_train, y_train)\n",
        "\n",
        "# Make predictions on the testing data using Multinomial Naive Bayes\n",
        "y_pred3 = mnb.predict(X_test)\n",
        "\n",
        "# Print accuracy, confusion matrix, and precision score for Multinomial Naive Bayes\n",
        "print('Accuracy score of Multinomial NB is: ', accuracy_score(y_test, y_pred3))\n",
        "print('Confusion Matrix of Multinomial NB is: ', confusion_matrix(y_test, y_pred3))\n",
        "print('Precision score of Multinomial NB is', precision_score(y_test, y_pred3))"
      ]
    }
  ],
  "metadata": {
    "colab": {
      "provenance": []
    },
    "kernelspec": {
      "display_name": "Python 3 (ipykernel)",
      "language": "python",
      "name": "python3"
    },
    "language_info": {
      "codemirror_mode": {
        "name": "ipython",
        "version": 3
      },
      "file_extension": ".py",
      "mimetype": "text/x-python",
      "name": "python",
      "nbconvert_exporter": "python",
      "pygments_lexer": "ipython3",
      "version": "3.11.5"
    }
  },
  "nbformat": 4,
  "nbformat_minor": 0
}