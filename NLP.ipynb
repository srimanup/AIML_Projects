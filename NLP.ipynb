{
  "nbformat": 4,
  "nbformat_minor": 0,
  "metadata": {
    "colab": {
      "provenance": []
    },
    "kernelspec": {
      "name": "python3",
      "display_name": "Python 3"
    },
    "language_info": {
      "name": "python"
    }
  },
  "cells": [
    {
      "cell_type": "code",
      "execution_count": null,
      "metadata": {
        "id": "Egxh3aCWqc8F"
      },
      "outputs": [],
      "source": [
        "!pip install presidio-anonymizer\n",
        "!pip install presidio_analyzer\n",
        "!python -m spacy download en_core_web_md\n",
        "!pip install transformers\n"
      ]
    },
    {
      "cell_type": "code",
      "source": [
        "from presidio_analyzer import AnalyzerEngine\n",
        "from presidio_analyzer.nlp_engine import NlpEngineProvider\n",
        "from presidio_anonymizer import AnonymizerEngine"
      ],
      "metadata": {
        "id": "IQDDRl2fqiDM"
      },
      "execution_count": null,
      "outputs": []
    },
    {
      "cell_type": "code",
      "source": [
        "configuration = {\n",
        "    \"nlp_engine_name\":\"spacy\",\n",
        "    \"models\":[{\"lang_code\":\"en\",\n",
        "               \"model_name\":\"en_core_web_md\"}]\n",
        "}"
      ],
      "metadata": {
        "id": "_Rbb6v0zqn4B"
      },
      "execution_count": null,
      "outputs": []
    },
    {
      "cell_type": "code",
      "source": [
        "provider = NlpEngineProvider(nlp_configuration=configuration)\n",
        "nlp_engine = provider.create_engine()\n",
        "analyzer = AnalyzerEngine(nlp_engine=nlp_engine, supported_languages=[\"en\"])"
      ],
      "metadata": {
        "id": "Ji4BjepprVZM"
      },
      "execution_count": null,
      "outputs": []
    },
    {
      "cell_type": "code",
      "source": [
        "example_text = \"Hi my name is Hermit. Born in Hyderabad, India in 2023. My phone number is 91-9309209121.(dont call me). I ate Pizza last year\"\n",
        "results = analyzer.analyze(text=example_text, language = 'en')\n",
        "\n",
        "for res in results:\n",
        "  print(res)"
      ],
      "metadata": {
        "colab": {
          "base_uri": "https://localhost:8080/"
        },
        "id": "bDdlHCFJskHC",
        "outputId": "e2a16748-cd3e-4e72-b6d3-57ccf336cfd1"
      },
      "execution_count": null,
      "outputs": [
        {
          "output_type": "stream",
          "name": "stdout",
          "text": [
            "type: LOCATION, start: 30, end: 39, score: 0.85\n",
            "type: LOCATION, start: 41, end: 46, score: 0.85\n",
            "type: DATE_TIME, start: 50, end: 54, score: 0.85\n",
            "type: DATE_TIME, start: 117, end: 126, score: 0.85\n",
            "type: PHONE_NUMBER, start: 75, end: 88, score: 0.75\n",
            "type: US_BANK_NUMBER, start: 78, end: 88, score: 0.05\n",
            "type: US_DRIVER_LICENSE, start: 78, end: 88, score: 0.01\n"
          ]
        }
      ]
    },
    {
      "cell_type": "code",
      "source": [
        "example_text = \"Hi my name is Hermit. Born in Hyderabad, India in 2023. My phone number is 91-9309209121.(dont call me). I ate Pizza last year\"\n",
        "anonymizer = AnonymizerEngine()\n",
        "results = analyzer.analyze(text=example_text, language = 'en')\n",
        "anonymized_text = anonymizer.anonymize(text = example_text,analyzer_results = results)"
      ],
      "metadata": {
        "id": "Ipds5JsFrqqj"
      },
      "execution_count": null,
      "outputs": []
    },
    {
      "cell_type": "code",
      "source": [
        "print(anonymized_text)"
      ],
      "metadata": {
        "colab": {
          "base_uri": "https://localhost:8080/"
        },
        "id": "6O6jdtBUvqTw",
        "outputId": "b9c6b3ff-46e5-4a09-96be-21be573faa26"
      },
      "execution_count": null,
      "outputs": [
        {
          "output_type": "stream",
          "name": "stdout",
          "text": [
            "text: Hi my name is Hermit. Born in <LOCATION>, <LOCATION> in <DATE_TIME>. My phone number is <PHONE_NUMBER>.(dont call me). I ate Pizza <DATE_TIME>\n",
            "items:\n",
            "[\n",
            "    {'start': 131, 'end': 142, 'entity_type': 'DATE_TIME', 'text': '<DATE_TIME>', 'operator': 'replace'},\n",
            "    {'start': 88, 'end': 102, 'entity_type': 'PHONE_NUMBER', 'text': '<PHONE_NUMBER>', 'operator': 'replace'},\n",
            "    {'start': 56, 'end': 67, 'entity_type': 'DATE_TIME', 'text': '<DATE_TIME>', 'operator': 'replace'},\n",
            "    {'start': 42, 'end': 52, 'entity_type': 'LOCATION', 'text': '<LOCATION>', 'operator': 'replace'},\n",
            "    {'start': 30, 'end': 40, 'entity_type': 'LOCATION', 'text': '<LOCATION>', 'operator': 'replace'}\n",
            "]\n",
            "\n"
          ]
        }
      ]
    },
    {
      "cell_type": "code",
      "source": [
        "from transformers import pipeline\n",
        "\n"
      ],
      "metadata": {
        "id": "sgyPwMJQvthw"
      },
      "execution_count": null,
      "outputs": []
    },
    {
      "cell_type": "code",
      "source": [
        "text = \"test\"\n",
        "classifier = pipeline(\"text-classification\", model=\"tensor-trek/distilbert-toxicity-classifier\")\n",
        "classifier(text)"
      ],
      "metadata": {
        "colab": {
          "base_uri": "https://localhost:8080/"
        },
        "id": "WnHmfybLwOcS",
        "outputId": "76bd21e1-ad15-49df-d8b6-c2799b4186dd"
      },
      "execution_count": null,
      "outputs": [
        {
          "output_type": "execute_result",
          "data": {
            "text/plain": [
              "[{'label': 'NEUTRAL', 'score': 0.9991722106933594}]"
            ]
          },
          "metadata": {},
          "execution_count": 20
        }
      ]
    },
    {
      "cell_type": "code",
      "source": [],
      "metadata": {
        "id": "4yZXC6lMwrKJ"
      },
      "execution_count": null,
      "outputs": []
    }
  ]
}