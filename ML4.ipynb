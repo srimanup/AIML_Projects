{
  "cells": [
    {
      "cell_type": "markdown",
      "metadata": {
        "id": "zYJfvi-LIZmm"
      },
      "source": [
        "## Q4. Implement logistic regression to train a dataset and subsequently assess the accuracy of the trained model using a separate test dataset."
      ]
    },
    {
      "cell_type": "code",
      "execution_count": null,
      "metadata": {
        "id": "3sa0QucdvyM6"
      },
      "outputs": [],
      "source": [
        "import pandas as pd\n",
        "import numpy as np\n",
        "from sklearn.svm import SVC\n",
        "from sklearn.model_selection import train_test_split\n",
        "from sklearn import metrics\n",
        "from sklearn.metrics import confusion_matrix\n",
        "import matplotlib.pyplot as plt\n",
        "import seaborn as sns\n",
        "\n",
        "from sklearn.preprocessing import scale\n",
        "from sklearn.decomposition import PCA, IncrementalPCA\n",
        "test_data = pd.read_csv(\"test.csv\")\n",
        "training_data = pd.read_csv(\"train.csv\")\n"
      ]
    },
    {
      "cell_type": "code",
      "execution_count": null,
      "metadata": {
        "colab": {
          "base_uri": "https://localhost:8080/"
        },
        "id": "UiGuf9UOWTVS",
        "outputId": "441a9bb6-a7c9-4a92-ff83-4e7d51d64312"
      },
      "outputs": [
        {
          "data": {
            "text/plain": [
              "pixel783      0\n",
              "pixel53       0\n",
              "pixel52       0\n",
              "pixel532      0\n",
              "pixel560      0\n",
              "           ... \n",
              "pixel330    255\n",
              "pixel331    255\n",
              "pixel332    255\n",
              "pixel314    255\n",
              "pixel430    255\n",
              "Length: 785, dtype: int64"
            ]
          },
          "execution_count": 6,
          "metadata": {},
          "output_type": "execute_result"
        }
      ],
      "source": [
        "training_data.head(10)\n",
        "\n",
        "# Sort the maximum values of each column in training_data DataFrame in ascending order\n",
        "training_data.max().sort_values()"
      ]
    },
    {
      "cell_type": "code",
      "execution_count": null,
      "metadata": {
        "colab": {
          "base_uri": "https://localhost:8080/"
        },
        "id": "NssFJ1FDWcbf",
        "outputId": "a391deb2-bc09-41ec-97ea-fe0e35d07b1a"
      },
      "outputs": [
        {
          "data": {
            "text/plain": [
              "pixel0      0\n",
              "pixel1      0\n",
              "pixel2      0\n",
              "pixel3      0\n",
              "pixel4      0\n",
              "           ..\n",
              "pixel779    0\n",
              "pixel780    0\n",
              "pixel781    0\n",
              "pixel782    0\n",
              "pixel783    0\n",
              "Length: 784, dtype: int64"
            ]
          },
          "execution_count": 7,
          "metadata": {},
          "output_type": "execute_result"
        }
      ],
      "source": [
        "# Check the number of missing values in each column of the training_data DataFrame\n",
        "training_data.isnull().sum()\n",
        "# Fill missing values in the training_data DataFrame with 0 and modify the DataFrame in-place\n",
        "training_data.fillna(0, inplace=True)\n",
        "# Check the number of missing values in each column of the training_data DataFrame after filling missing values\n",
        "training_data.isna().sum()\n",
        "\n",
        "# Check the number of missing values in each column of the test_data DataFrame\n",
        "test_data.isnull().sum()\n",
        "# Fill missing values in the test_data DataFrame with 0 and modify the DataFrame in-place\n",
        "test_data.fillna(0, inplace=True)\n",
        "# Check the number of missing values in each column of the test_data DataFrame after filling missing values\n",
        "test_data.isna().sum()"
      ]
    },
    {
      "cell_type": "code",
      "execution_count": null,
      "metadata": {
        "colab": {
          "base_uri": "https://localhost:8080/"
        },
        "id": "agXFNi7Dv7ny",
        "outputId": "91d349fc-92fe-4e0c-ea29-5bf7679b05ec"
      },
      "outputs": [
        {
          "data": {
            "text/plain": [
              "(29400, 400)"
            ]
          },
          "execution_count": 10,
          "metadata": {},
          "output_type": "execute_result"
        }
      ],
      "source": [
        "# Separate features (X) and target variable (y) from the training_data DataFrame\n",
        "X = training_data.drop(\"label\", axis=1)  # Features (remove 'label' column)\n",
        "y = training_data['label']  # Target variable\n",
        "\n",
        "# Scale the features using the scale function\n",
        "X_scaled = scale(X)\n",
        "\n",
        "# Split the data into training and testing sets\n",
        "X_train, X_test, y_train, y_test = train_test_split(X_scaled, y, test_size=0.3, random_state=101)\n",
        "\n",
        "# Apply Incremental PCA (Principal Component Analysis) for dimensionality reduction\n",
        "pca = IncrementalPCA(n_components=400)  # Initialize PCA with desired number of components\n",
        "X_train = pca.fit_transform(X_train)  # Fit and transform training data\n",
        "X_test = pca.transform(X_test)  # Transform test data\n",
        "\n",
        "# Display the shape of the transformed training data\n",
        "X_train.shape"
      ]
    },
    {
      "cell_type": "code",
      "execution_count": null,
      "metadata": {
        "id": "XvloIyQud7MP",
        "outputId": "50f99c5e-2a99-4c14-fb62-1415b87fe1eb"
      },
      "outputs": [
        {
          "name": "stdout",
          "output_type": "stream",
          "text": [
            "(12600,)\n",
            "(12600, 400)\n",
            "(12600,)\n",
            "0.9142857142857143\n"
          ]
        }
      ],
      "source": [
        "from sklearn.linear_model import LogisticRegression\n",
        "softReg = LogisticRegression(multi_class = 'multinomial', solver = 'lbfgs',max_iter=1000)\n",
        "softReg.fit(X_train,y_train)\n",
        "y_pred_softreg = softReg.predict(X_test)\n",
        "#for i in range(0, X_test.shape[0]):\n",
        " #print(\"ImageId:\", i+1 , \"Label:\", y_pred_softreg[i])\n",
        "from sklearn.metrics import accuracy_score\n",
        "print(y_test.shape)\n",
        "print(X_test.shape)s\n",
        "print(y_pred_softreg.shape)\n",
        "print(accuracy_score(y_test, y_pred_softreg))"
      ]
    }
  ],
  "metadata": {
    "colab": {
      "provenance": []
    },
    "kernelspec": {
      "display_name": "Python 3 (ipykernel)",
      "language": "python",
      "name": "python3"
    },
    "language_info": {
      "codemirror_mode": {
        "name": "ipython",
        "version": 3
      },
      "file_extension": ".py",
      "mimetype": "text/x-python",
      "name": "python",
      "nbconvert_exporter": "python",
      "pygments_lexer": "ipython3",
      "version": "3.11.5"
    }
  },
  "nbformat": 4,
  "nbformat_minor": 0
}