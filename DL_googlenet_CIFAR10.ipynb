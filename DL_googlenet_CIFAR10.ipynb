{
  "nbformat": 4,
  "nbformat_minor": 0,
  "metadata": {
    "colab": {
      "provenance": [],
      "gpuType": "T4"
    },
    "kernelspec": {
      "name": "python3",
      "display_name": "Python 3"
    },
    "language_info": {
      "name": "python"
    },
    "accelerator": "GPU"
  },
  "cells": [
    {
      "cell_type": "code",
      "source": [
        "import torch\n",
        "import torch.nn as nn\n",
        "import torch.nn.functional as F\n",
        "import torch.optim as optim\n",
        "from torchvision import datasets, transforms, models\n",
        "from torch.utils.data import DataLoader"
      ],
      "metadata": {
        "id": "brNY2kIqII2l"
      },
      "execution_count": null,
      "outputs": []
    },
    {
      "cell_type": "code",
      "source": [
        "# Check if CUDA is available and set the device\n",
        "device = torch.device(\"cuda\" if torch.cuda.is_available() else \"cpu\")"
      ],
      "metadata": {
        "id": "WskDogahII0X"
      },
      "execution_count": null,
      "outputs": []
    },
    {
      "cell_type": "code",
      "source": [
        "# CIFAR-10 dataset has 10 classes\n",
        "num_classes = 10"
      ],
      "metadata": {
        "id": "Sy3Q0oJQIIx9"
      },
      "execution_count": null,
      "outputs": []
    },
    {
      "cell_type": "code",
      "source": [
        "# Image Preprocessing\n",
        "transform = transforms.Compose([\n",
        "    transforms.ToTensor(),\n",
        "    transforms.Normalize((0.5, 0.5, 0.5), (0.5, 0.5, 0.5))  # Normalization\n",
        "])"
      ],
      "metadata": {
        "id": "_jiRGUh5Ohe1"
      },
      "execution_count": null,
      "outputs": []
    },
    {
      "cell_type": "code",
      "source": [
        "# CIFAR-10 data\n",
        "train_dataset = datasets.CIFAR10(root='./data', train=True, transform=transform, download=True)\n",
        "test_dataset = datasets.CIFAR10(root='./data', train=False, transform=transform)"
      ],
      "metadata": {
        "colab": {
          "base_uri": "https://localhost:8080/"
        },
        "id": "CrkJnCyGITZf",
        "outputId": "b21431bd-863d-4085-f188-c0a02fbfd966"
      },
      "execution_count": null,
      "outputs": [
        {
          "output_type": "stream",
          "name": "stdout",
          "text": [
            "Downloading https://www.cs.toronto.edu/~kriz/cifar-10-python.tar.gz to ./data/cifar-10-python.tar.gz\n"
          ]
        },
        {
          "output_type": "stream",
          "name": "stderr",
          "text": [
            "100%|██████████| 170498071/170498071 [00:13<00:00, 12193890.25it/s]\n"
          ]
        },
        {
          "output_type": "stream",
          "name": "stdout",
          "text": [
            "Extracting ./data/cifar-10-python.tar.gz to ./data\n"
          ]
        }
      ]
    },
    {
      "cell_type": "code",
      "source": [
        "# Data Loader\n",
        "train_loader = DataLoader(dataset=train_dataset, batch_size=64, shuffle=True)\n",
        "test_loader = DataLoader(dataset=test_dataset, batch_size=64, shuffle=False)\n"
      ],
      "metadata": {
        "id": "iDmcUSNYOyGt"
      },
      "execution_count": null,
      "outputs": []
    },
    {
      "cell_type": "code",
      "source": [
        "# Define a GoogLeNet model for CIFAR-10\n",
        "class GoogLeNetCIFAR10(models.GoogLeNet):\n",
        "    def __init__(self, num_classes=10):\n",
        "        super(GoogLeNetCIFAR10, self).__init__(num_classes=num_classes, aux_logits=False, init_weights=True)\n",
        "        # Redefine the first convolutional layer to accept CIFAR-10's 32x32 pixel images\n",
        "        self.conv1 = nn.Conv2d(3, 64, kernel_size=3, stride=1, padding=1)\n",
        "\n",
        "    def forward(self, x):\n",
        "        # Follow the forward pass of the GoogLeNet model\n",
        "        return super(GoogLeNetCIFAR10, self).forward(x)\n"
      ],
      "metadata": {
        "id": "5G3F3iWIIIvl"
      },
      "execution_count": null,
      "outputs": []
    },
    {
      "cell_type": "code",
      "source": [
        "# Instantiate the model and transfer it to the GPU\n",
        "model = GoogLeNetCIFAR10(num_classes=num_classes).to(device)\n"
      ],
      "metadata": {
        "id": "PlM-tXmQPlq3"
      },
      "execution_count": null,
      "outputs": []
    },
    {
      "cell_type": "code",
      "source": [
        "# Loss and Optimizer\n",
        "criterion = nn.CrossEntropyLoss()\n",
        "optimizer = optim.Adam(model.parameters(), lr=0.001)\n"
      ],
      "metadata": {
        "id": "5YT9CwpmO-Kl"
      },
      "execution_count": null,
      "outputs": []
    },
    {
      "cell_type": "code",
      "source": [
        "# Function to train the model\n",
        "def train(model, criterion, optimizer, train_loader, epochs=10):\n",
        "    model.train()\n",
        "    for epoch in range(epochs):\n",
        "        running_loss = 0.0\n",
        "        for i, (inputs, labels) in enumerate(train_loader, 0):\n",
        "            # Transfer inputs and labels to the GPU\n",
        "            inputs, labels = inputs.to(device), labels.to(device)\n",
        "\n",
        "            optimizer.zero_grad()\n",
        "            outputs = model(inputs)\n",
        "            loss = criterion(outputs, labels)\n",
        "            loss.backward()\n",
        "            optimizer.step()\n",
        "            running_loss += loss.item()\n",
        "            if i % 100 == 99:\n",
        "                print(f'Epoch {epoch + 1}, Batch {i + 1}, Loss: {running_loss / 100}')\n",
        "                running_loss = 0.0"
      ],
      "metadata": {
        "id": "V5s9qorsO-H1"
      },
      "execution_count": null,
      "outputs": []
    },
    {
      "cell_type": "code",
      "source": [
        "# Function to test the model\n",
        "def test(model, test_loader):\n",
        "    model.eval()\n",
        "    correct = 0\n",
        "    total = 0\n",
        "    with torch.no_grad():\n",
        "        for images, labels in test_loader:\n",
        "            # Transfer images and labels to the GPU\n",
        "            images, labels = images.to(device), labels.to(device)\n",
        "\n",
        "            outputs = model(images)\n",
        "            _, predicted = torch.max(outputs.data, 1)\n",
        "            total += labels.size(0)\n",
        "            correct += (predicted == labels).sum().item()\n",
        "    accuracy = 100 * correct / total\n",
        "    return accuracy\n"
      ],
      "metadata": {
        "id": "eo3XEMSOO-FF"
      },
      "execution_count": null,
      "outputs": []
    },
    {
      "cell_type": "code",
      "source": [
        "# Start training\n",
        "train(model, criterion, optimizer, train_loader, epochs=10)\n",
        "\n"
      ],
      "metadata": {
        "colab": {
          "base_uri": "https://localhost:8080/"
        },
        "id": "iL9EBWwDPCLN",
        "outputId": "68bab5a8-a622-4302-cc63-f7f0f783c85b"
      },
      "execution_count": null,
      "outputs": [
        {
          "output_type": "stream",
          "name": "stdout",
          "text": [
            "Epoch 1, Batch 100, Loss: 1.9158953213691712\n",
            "Epoch 1, Batch 200, Loss: 1.7259334874153138\n",
            "Epoch 1, Batch 300, Loss: 1.5547630107402801\n",
            "Epoch 1, Batch 400, Loss: 1.4671156442165374\n",
            "Epoch 1, Batch 500, Loss: 1.3805170524120332\n",
            "Epoch 1, Batch 600, Loss: 1.293321840763092\n",
            "Epoch 1, Batch 700, Loss: 1.2353383630514145\n",
            "Epoch 2, Batch 100, Loss: 1.1351709514856339\n",
            "Epoch 2, Batch 200, Loss: 1.0613451540470122\n",
            "Epoch 2, Batch 300, Loss: 1.0482701855897902\n",
            "Epoch 2, Batch 400, Loss: 0.9935551083087921\n",
            "Epoch 2, Batch 500, Loss: 0.9518651217222214\n",
            "Epoch 2, Batch 600, Loss: 0.9359095537662506\n",
            "Epoch 2, Batch 700, Loss: 0.8961749660968781\n",
            "Epoch 3, Batch 100, Loss: 0.831555083990097\n",
            "Epoch 3, Batch 200, Loss: 0.7953695210814477\n",
            "Epoch 3, Batch 300, Loss: 0.772147698700428\n",
            "Epoch 3, Batch 400, Loss: 0.7850076878070831\n",
            "Epoch 3, Batch 500, Loss: 0.7473026326298714\n",
            "Epoch 3, Batch 600, Loss: 0.7388499349355697\n",
            "Epoch 3, Batch 700, Loss: 0.6884658551216125\n",
            "Epoch 4, Batch 100, Loss: 0.6176674127578735\n",
            "Epoch 4, Batch 200, Loss: 0.6399197053909301\n",
            "Epoch 4, Batch 300, Loss: 0.6351747301220894\n",
            "Epoch 4, Batch 400, Loss: 0.6178251922130584\n",
            "Epoch 4, Batch 500, Loss: 0.5972589111328125\n",
            "Epoch 4, Batch 600, Loss: 0.5954781141877175\n",
            "Epoch 4, Batch 700, Loss: 0.5974696573615074\n",
            "Epoch 5, Batch 100, Loss: 0.5015773940086364\n",
            "Epoch 5, Batch 200, Loss: 0.517821591347456\n",
            "Epoch 5, Batch 300, Loss: 0.5268383005261421\n",
            "Epoch 5, Batch 400, Loss: 0.5161333078145981\n",
            "Epoch 5, Batch 500, Loss: 0.507867057621479\n",
            "Epoch 5, Batch 600, Loss: 0.5140830409526825\n",
            "Epoch 5, Batch 700, Loss: 0.49873988300561906\n",
            "Epoch 6, Batch 100, Loss: 0.41235055565834045\n",
            "Epoch 6, Batch 200, Loss: 0.41107986614108083\n",
            "Epoch 6, Batch 300, Loss: 0.42056443080306055\n",
            "Epoch 6, Batch 400, Loss: 0.45325487703084943\n",
            "Epoch 6, Batch 500, Loss: 0.4527196677029133\n",
            "Epoch 6, Batch 600, Loss: 0.4427739533782005\n",
            "Epoch 6, Batch 700, Loss: 0.436647826731205\n",
            "Epoch 7, Batch 100, Loss: 0.34946441650390625\n",
            "Epoch 7, Batch 200, Loss: 0.3326185475289822\n",
            "Epoch 7, Batch 300, Loss: 0.3721393644809723\n",
            "Epoch 7, Batch 400, Loss: 0.38641934990882876\n",
            "Epoch 7, Batch 500, Loss: 0.34694936975836754\n",
            "Epoch 7, Batch 600, Loss: 0.38162983402609824\n",
            "Epoch 7, Batch 700, Loss: 0.3806112460792065\n",
            "Epoch 8, Batch 100, Loss: 0.26746766157448293\n",
            "Epoch 8, Batch 200, Loss: 0.29057476423680784\n",
            "Epoch 8, Batch 300, Loss: 0.32473560512065885\n",
            "Epoch 8, Batch 400, Loss: 0.3099734351038933\n",
            "Epoch 8, Batch 500, Loss: 0.3040363106876612\n",
            "Epoch 8, Batch 600, Loss: 0.34374089978635314\n",
            "Epoch 8, Batch 700, Loss: 0.32389831691980364\n",
            "Epoch 9, Batch 100, Loss: 0.23869173765182494\n",
            "Epoch 9, Batch 200, Loss: 0.2310869561880827\n",
            "Epoch 9, Batch 300, Loss: 0.25539812542498114\n",
            "Epoch 9, Batch 400, Loss: 0.2645346359908581\n",
            "Epoch 9, Batch 500, Loss: 0.2682730443030596\n",
            "Epoch 9, Batch 600, Loss: 0.2805674120783806\n",
            "Epoch 9, Batch 700, Loss: 0.26734591893851756\n",
            "Epoch 10, Batch 100, Loss: 0.2169948771968484\n",
            "Epoch 10, Batch 200, Loss: 0.20617919374257326\n",
            "Epoch 10, Batch 300, Loss: 0.2113712465763092\n",
            "Epoch 10, Batch 400, Loss: 0.23382354974746705\n",
            "Epoch 10, Batch 500, Loss: 0.22062262739986183\n",
            "Epoch 10, Batch 600, Loss: 0.22019890107214452\n",
            "Epoch 10, Batch 700, Loss: 0.244330560490489\n"
          ]
        }
      ]
    },
    {
      "cell_type": "code",
      "source": [
        "# Test the model\n",
        "accuracy = test(model, test_loader)\n",
        "print(f'Accuracy of the model on the 10000 test images: {accuracy}%')\n"
      ],
      "metadata": {
        "colab": {
          "base_uri": "https://localhost:8080/"
        },
        "id": "vWYoQUofO981",
        "outputId": "c2449a77-7460-494b-e271-5ae363285f38"
      },
      "execution_count": null,
      "outputs": [
        {
          "output_type": "stream",
          "name": "stdout",
          "text": [
            "Accuracy of the model on the 10000 test images: 82.72%\n"
          ]
        }
      ]
    },
    {
      "cell_type": "code",
      "source": [],
      "metadata": {
        "id": "eHh9iivlPIEG"
      },
      "execution_count": null,
      "outputs": []
    }
  ]
}