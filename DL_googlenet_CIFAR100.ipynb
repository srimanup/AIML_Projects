{
  "nbformat": 4,
  "nbformat_minor": 0,
  "metadata": {
    "colab": {
      "provenance": [],
      "gpuType": "T4"
    },
    "kernelspec": {
      "name": "python3",
      "display_name": "Python 3"
    },
    "language_info": {
      "name": "python"
    },
    "accelerator": "GPU"
  },
  "cells": [
    {
      "cell_type": "code",
      "source": [
        "import torch\n",
        "import torch.nn as nn\n",
        "import torch.nn.functional as F\n",
        "import torch.optim as optim\n",
        "from torchvision import datasets, transforms, models\n",
        "from torch.utils.data import DataLoader"
      ],
      "metadata": {
        "id": "brNY2kIqII2l"
      },
      "execution_count": null,
      "outputs": []
    },
    {
      "cell_type": "code",
      "source": [
        "# Check if CUDA is available and set the device\n",
        "device = torch.device(\"cuda\" if torch.cuda.is_available() else \"cpu\")"
      ],
      "metadata": {
        "id": "WskDogahII0X"
      },
      "execution_count": null,
      "outputs": []
    },
    {
      "cell_type": "code",
      "source": [
        "# CIFAR-100 dataset has 100 classes\n",
        "num_classes = 100"
      ],
      "metadata": {
        "id": "Sy3Q0oJQIIx9"
      },
      "execution_count": null,
      "outputs": []
    },
    {
      "cell_type": "code",
      "source": [
        "# Image Preprocessing\n",
        "transform = transforms.Compose([\n",
        "    transforms.ToTensor(),\n",
        "    transforms.Normalize((0.5, 0.5, 0.5), (0.5, 0.5, 0.5))  # Normalization\n",
        "])"
      ],
      "metadata": {
        "id": "_jiRGUh5Ohe1"
      },
      "execution_count": null,
      "outputs": []
    },
    {
      "cell_type": "code",
      "source": [
        "# CIFAR-100 data\n",
        "train_dataset = datasets.CIFAR100(root='./data', train=True, transform=transform, download=True)\n",
        "test_dataset = datasets.CIFAR100(root='./data', train=False, transform=transform)"
      ],
      "metadata": {
        "colab": {
          "base_uri": "https://localhost:8080/"
        },
        "id": "CrkJnCyGITZf",
        "outputId": "eba9ca26-f8ad-4ac8-c6ac-c5d1bb742586"
      },
      "execution_count": null,
      "outputs": [
        {
          "output_type": "stream",
          "name": "stdout",
          "text": [
            "Downloading https://www.cs.toronto.edu/~kriz/cifar-100-python.tar.gz to ./data/cifar-100-python.tar.gz\n"
          ]
        },
        {
          "output_type": "stream",
          "name": "stderr",
          "text": [
            "100%|██████████| 169001437/169001437 [00:03<00:00, 46707707.14it/s]\n"
          ]
        },
        {
          "output_type": "stream",
          "name": "stdout",
          "text": [
            "Extracting ./data/cifar-100-python.tar.gz to ./data\n"
          ]
        }
      ]
    },
    {
      "cell_type": "code",
      "source": [
        "# Data Loader\n",
        "train_loader = DataLoader(dataset=train_dataset, batch_size=64, shuffle=True)\n",
        "test_loader = DataLoader(dataset=test_dataset, batch_size=64, shuffle=False)\n"
      ],
      "metadata": {
        "id": "iDmcUSNYOyGt"
      },
      "execution_count": null,
      "outputs": []
    },
    {
      "cell_type": "code",
      "source": [
        "# Define a GoogLeNet model for CIFAR-10\n",
        "class GoogLeNetCIFAR100(models.GoogLeNet):\n",
        "    def __init__(self, num_classes=100):\n",
        "        super(GoogLeNetCIFAR100, self).__init__(num_classes=num_classes, aux_logits=False, init_weights=True)\n",
        "        # Redefine the first convolutional layer to accept CIFAR-10's 32x32 pixel images\n",
        "        self.conv1 = nn.Conv2d(3, 64, kernel_size=3, stride=1, padding=1)\n",
        "\n",
        "    def forward(self, x):\n",
        "        # Follow the forward pass of the GoogLeNet model\n",
        "        return super(GoogLeNetCIFAR100, self).forward(x)\n"
      ],
      "metadata": {
        "id": "5G3F3iWIIIvl"
      },
      "execution_count": null,
      "outputs": []
    },
    {
      "cell_type": "code",
      "source": [
        "# Instantiate the model and transfer it to the GPU\n",
        "model = GoogLeNetCIFAR100(num_classes=num_classes).to(device)\n"
      ],
      "metadata": {
        "id": "PlM-tXmQPlq3"
      },
      "execution_count": null,
      "outputs": []
    },
    {
      "cell_type": "code",
      "source": [
        "# Loss and Optimizer\n",
        "criterion = nn.CrossEntropyLoss()\n",
        "optimizer = optim.Adam(model.parameters(), lr=0.001)\n"
      ],
      "metadata": {
        "id": "5YT9CwpmO-Kl"
      },
      "execution_count": null,
      "outputs": []
    },
    {
      "cell_type": "code",
      "source": [
        "# Function to train the model\n",
        "def train(model, criterion, optimizer, train_loader, epochs=10):\n",
        "    model.train()\n",
        "    for epoch in range(epochs):\n",
        "        running_loss = 0.0\n",
        "        for i, (inputs, labels) in enumerate(train_loader, 0):\n",
        "            # Transfer inputs and labels to the GPU\n",
        "            inputs, labels = inputs.to(device), labels.to(device)\n",
        "\n",
        "            optimizer.zero_grad()\n",
        "            outputs = model(inputs)\n",
        "            loss = criterion(outputs, labels)\n",
        "            loss.backward()\n",
        "            optimizer.step()\n",
        "            running_loss += loss.item()\n",
        "            if i % 100 == 99:\n",
        "                print(f'Epoch {epoch + 1}, Batch {i + 1}, Loss: {running_loss / 100}')\n",
        "                running_loss = 0.0"
      ],
      "metadata": {
        "id": "V5s9qorsO-H1"
      },
      "execution_count": null,
      "outputs": []
    },
    {
      "cell_type": "code",
      "source": [
        "# Function to test the model\n",
        "def test(model, test_loader):\n",
        "    model.eval()\n",
        "    correct = 0\n",
        "    total = 0\n",
        "    with torch.no_grad():\n",
        "        for images, labels in test_loader:\n",
        "            # Transfer images and labels to the GPU\n",
        "            images, labels = images.to(device), labels.to(device)\n",
        "\n",
        "            outputs = model(images)\n",
        "            _, predicted = torch.max(outputs.data, 1)\n",
        "            total += labels.size(0)\n",
        "            correct += (predicted == labels).sum().item()\n",
        "    accuracy = 100 * correct / total\n",
        "    return accuracy\n"
      ],
      "metadata": {
        "id": "eo3XEMSOO-FF"
      },
      "execution_count": null,
      "outputs": []
    },
    {
      "cell_type": "code",
      "source": [
        "# Start training\n",
        "train(model, criterion, optimizer, train_loader, epochs=10)\n",
        "\n"
      ],
      "metadata": {
        "colab": {
          "base_uri": "https://localhost:8080/"
        },
        "id": "iL9EBWwDPCLN",
        "outputId": "a6e8eef4-55c4-4901-9fdf-24f074fa11f3"
      },
      "execution_count": null,
      "outputs": [
        {
          "output_type": "stream",
          "name": "stdout",
          "text": [
            "Epoch 1, Batch 100, Loss: 4.516444692611694\n",
            "Epoch 1, Batch 200, Loss: 4.238213219642639\n",
            "Epoch 1, Batch 300, Loss: 4.1268888235092165\n",
            "Epoch 1, Batch 400, Loss: 4.02144907951355\n",
            "Epoch 1, Batch 500, Loss: 3.9263324189186095\n",
            "Epoch 1, Batch 600, Loss: 3.830439863204956\n",
            "Epoch 1, Batch 700, Loss: 3.7423854541778563\n",
            "Epoch 2, Batch 100, Loss: 3.594779953956604\n",
            "Epoch 2, Batch 200, Loss: 3.5031527400016786\n",
            "Epoch 2, Batch 300, Loss: 3.432232382297516\n",
            "Epoch 2, Batch 400, Loss: 3.393256375789642\n",
            "Epoch 2, Batch 500, Loss: 3.28625926733017\n",
            "Epoch 2, Batch 600, Loss: 3.202833218574524\n",
            "Epoch 2, Batch 700, Loss: 3.152721028327942\n",
            "Epoch 3, Batch 100, Loss: 3.0173394083976746\n",
            "Epoch 3, Batch 200, Loss: 2.9532887840271\n",
            "Epoch 3, Batch 300, Loss: 2.889402515888214\n",
            "Epoch 3, Batch 400, Loss: 2.854636006355286\n",
            "Epoch 3, Batch 500, Loss: 2.7945648670196532\n",
            "Epoch 3, Batch 600, Loss: 2.755086920261383\n",
            "Epoch 3, Batch 700, Loss: 2.698475317955017\n",
            "Epoch 4, Batch 100, Loss: 2.54119198679924\n",
            "Epoch 4, Batch 200, Loss: 2.500932869911194\n",
            "Epoch 4, Batch 300, Loss: 2.4626812648773195\n",
            "Epoch 4, Batch 400, Loss: 2.5272407126426697\n",
            "Epoch 4, Batch 500, Loss: 2.3998692190647124\n",
            "Epoch 4, Batch 600, Loss: 2.441166100502014\n",
            "Epoch 4, Batch 700, Loss: 2.3983067166805268\n",
            "Epoch 5, Batch 100, Loss: 2.205062586069107\n",
            "Epoch 5, Batch 200, Loss: 2.2005043816566467\n",
            "Epoch 5, Batch 300, Loss: 2.2246489119529724\n",
            "Epoch 5, Batch 400, Loss: 2.197051144838333\n",
            "Epoch 5, Batch 500, Loss: 2.183904255628586\n",
            "Epoch 5, Batch 600, Loss: 2.1998977410793303\n",
            "Epoch 5, Batch 700, Loss: 2.16120077252388\n",
            "Epoch 6, Batch 100, Loss: 1.9548311519622803\n",
            "Epoch 6, Batch 200, Loss: 1.996859748363495\n",
            "Epoch 6, Batch 300, Loss: 1.9573209917545318\n",
            "Epoch 6, Batch 400, Loss: 1.964643657207489\n",
            "Epoch 6, Batch 500, Loss: 2.001791914701462\n",
            "Epoch 6, Batch 600, Loss: 1.989669588804245\n",
            "Epoch 6, Batch 700, Loss: 1.9988069581985473\n",
            "Epoch 7, Batch 100, Loss: 1.7514053463935852\n",
            "Epoch 7, Batch 200, Loss: 1.820738492012024\n",
            "Epoch 7, Batch 300, Loss: 1.788540381193161\n",
            "Epoch 7, Batch 400, Loss: 1.77274555683136\n",
            "Epoch 7, Batch 500, Loss: 1.7977387917041778\n",
            "Epoch 7, Batch 600, Loss: 1.7735472929477691\n",
            "Epoch 7, Batch 700, Loss: 1.7917918694019317\n",
            "Epoch 8, Batch 100, Loss: 1.5580394351482392\n",
            "Epoch 8, Batch 200, Loss: 1.6108390510082244\n",
            "Epoch 8, Batch 300, Loss: 1.6339894247055053\n",
            "Epoch 8, Batch 400, Loss: 1.6631879556179046\n",
            "Epoch 8, Batch 500, Loss: 1.6874883460998535\n",
            "Epoch 8, Batch 600, Loss: 1.642384592294693\n",
            "Epoch 8, Batch 700, Loss: 1.6063748383522034\n",
            "Epoch 9, Batch 100, Loss: 1.3945457130670547\n",
            "Epoch 9, Batch 200, Loss: 1.4482062023878097\n",
            "Epoch 9, Batch 300, Loss: 1.4982715332508088\n",
            "Epoch 9, Batch 400, Loss: 1.4991491782665252\n",
            "Epoch 9, Batch 500, Loss: 1.4767756569385528\n",
            "Epoch 9, Batch 600, Loss: 1.4800436341762542\n",
            "Epoch 9, Batch 700, Loss: 1.5186199009418488\n",
            "Epoch 10, Batch 100, Loss: 1.2504842048883438\n",
            "Epoch 10, Batch 200, Loss: 1.28596455514431\n",
            "Epoch 10, Batch 300, Loss: 1.3173917371034622\n",
            "Epoch 10, Batch 400, Loss: 1.329253351688385\n",
            "Epoch 10, Batch 500, Loss: 1.305896881222725\n",
            "Epoch 10, Batch 600, Loss: 1.3475608056783677\n",
            "Epoch 10, Batch 700, Loss: 1.3652921497821808\n"
          ]
        }
      ]
    },
    {
      "cell_type": "code",
      "source": [
        "# Test the model\n",
        "accuracy = test(model, test_loader)\n",
        "print(f'Accuracy of the model on the 10000 test images: {accuracy}%')\n"
      ],
      "metadata": {
        "colab": {
          "base_uri": "https://localhost:8080/"
        },
        "id": "vWYoQUofO981",
        "outputId": "c9f9e09d-42da-4b85-94ab-626f7fe4b584"
      },
      "execution_count": null,
      "outputs": [
        {
          "output_type": "stream",
          "name": "stdout",
          "text": [
            "Accuracy of the model on the 10000 test images: 49.7%\n"
          ]
        }
      ]
    },
    {
      "cell_type": "code",
      "source": [],
      "metadata": {
        "id": "eHh9iivlPIEG"
      },
      "execution_count": null,
      "outputs": []
    }
  ]
}